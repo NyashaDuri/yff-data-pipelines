{
 "cells": [
  {
   "cell_type": "code",
   "execution_count": 1,
   "metadata": {},
   "outputs": [],
   "source": [
    "import petl as etl\n",
    "from pathlib import Path\n",
    "from zipfile import ZipFile"
   ]
  },
  {
   "cell_type": "markdown",
   "metadata": {},
   "source": [
    "Set up some sources"
   ]
  },
  {
   "cell_type": "code",
   "execution_count": 2,
   "metadata": {},
   "outputs": [],
   "source": [
    "ROOT = Path('../../..')\n",
    "OUT_PATH = ROOT / 'data/processed/areas/'"
   ]
  },
  {
   "cell_type": "markdown",
   "metadata": {},
   "source": [
    "Find the zip file. NB - this is downloaded in the education sources pipeline."
   ]
  },
  {
   "cell_type": "code",
   "execution_count": 3,
   "metadata": {},
   "outputs": [],
   "source": [
    "z = ZipFile(ROOT / \"data/raw/education/key-stage-4-performance.zip\")"
   ]
  },
  {
   "cell_type": "markdown",
   "metadata": {},
   "source": [
    "Find the name of the file"
   ]
  },
  {
   "cell_type": "code",
   "execution_count": 4,
   "metadata": {},
   "outputs": [],
   "source": [
    "pcon_data_file = next((item for item in z.namelist() if '_sl_pcon_data_' in item), None)"
   ]
  },
  {
   "cell_type": "markdown",
   "metadata": {},
   "source": [
    "Open the zip item and load into an etl source"
   ]
  },
  {
   "cell_type": "code",
   "execution_count": 5,
   "metadata": {},
   "outputs": [],
   "source": [
    "with z.open(pcon_data_file) as f:\n",
    "    source = etl.MemorySource(f.read())\n",
    "raw_data = etl.fromcsv(source).cut(\n",
    "    'time_period',\n",
    "    'geographic_level',\n",
    "    'pcon_code', \n",
    "    'pcon_name', \n",
    "    'avg_p8score',\n",
    "    'avg_att8',\n",
    "    'pt_l2basics_94',\n",
    "    'pt_l2basics_95',\n",
    ").selecteq(\n",
    "    'geographic_level', 'Parliamentary constituency'\n",
    ").selecteq(\n",
    "    'time_period', '202223'\n",
    ").cutout(\n",
    "    'time_period', 'geographic_level'\n",
    ")"
   ]
  },
  {
   "cell_type": "code",
   "execution_count": 6,
   "metadata": {},
   "outputs": [
    {
     "data": {
      "text/html": [
       "<table class='petl'>\n",
       "<thead>\n",
       "<tr>\n",
       "<th>pcon_code</th>\n",
       "<th>pcon_name</th>\n",
       "<th>avg_p8score</th>\n",
       "<th>avg_att8</th>\n",
       "<th>pt_l2basics_94</th>\n",
       "<th>pt_l2basics_95</th>\n",
       "</tr>\n",
       "</thead>\n",
       "<tbody>\n",
       "<tr>\n",
       "<td>E14000530</td>\n",
       "<td>Aldershot</td>\n",
       "<td>-0.63</td>\n",
       "<td>41</td>\n",
       "<td>56.7</td>\n",
       "<td>36.1</td>\n",
       "</tr>\n",
       "<tr>\n",
       "<td>E14000531</td>\n",
       "<td>Aldridge-Brownhills</td>\n",
       "<td>-0.36</td>\n",
       "<td>42.5</td>\n",
       "<td>58.4</td>\n",
       "<td>36</td>\n",
       "</tr>\n",
       "<tr>\n",
       "<td>E14000532</td>\n",
       "<td>Altrincham and Sale West</td>\n",
       "<td>0.4</td>\n",
       "<td>59.6</td>\n",
       "<td>83</td>\n",
       "<td>67.6</td>\n",
       "</tr>\n",
       "<tr>\n",
       "<td>E14000533</td>\n",
       "<td>Amber Valley</td>\n",
       "<td>-0.14</td>\n",
       "<td>43.6</td>\n",
       "<td>60.2</td>\n",
       "<td>39.1</td>\n",
       "</tr>\n",
       "<tr>\n",
       "<td>E14000534</td>\n",
       "<td>Arundel and South Downs</td>\n",
       "<td>0.08</td>\n",
       "<td>47.9</td>\n",
       "<td>68</td>\n",
       "<td>46.5</td>\n",
       "</tr>\n",
       "</tbody>\n",
       "</table>\n",
       "<p><strong>...</strong></p>"
      ],
      "text/plain": [
       "+-------------+----------------------------+-------------+----------+----------------+----------------+\n",
       "| pcon_code   | pcon_name                  | avg_p8score | avg_att8 | pt_l2basics_94 | pt_l2basics_95 |\n",
       "+=============+============================+=============+==========+================+================+\n",
       "| 'E14000530' | 'Aldershot'                | '-0.63'     | '41'     | '56.7'         | '36.1'         |\n",
       "+-------------+----------------------------+-------------+----------+----------------+----------------+\n",
       "| 'E14000531' | 'Aldridge-Brownhills'      | '-0.36'     | '42.5'   | '58.4'         | '36'           |\n",
       "+-------------+----------------------------+-------------+----------+----------------+----------------+\n",
       "| 'E14000532' | 'Altrincham and Sale West' | '0.4'       | '59.6'   | '83'           | '67.6'         |\n",
       "+-------------+----------------------------+-------------+----------+----------------+----------------+\n",
       "| 'E14000533' | 'Amber Valley'             | '-0.14'     | '43.6'   | '60.2'         | '39.1'         |\n",
       "+-------------+----------------------------+-------------+----------+----------------+----------------+\n",
       "| 'E14000534' | 'Arundel and South Downs'  | '0.08'      | '47.9'   | '68'           | '46.5'         |\n",
       "+-------------+----------------------------+-------------+----------+----------------+----------------+\n",
       "..."
      ]
     },
     "execution_count": 6,
     "metadata": {},
     "output_type": "execute_result"
    }
   ],
   "source": [
    "raw_data"
   ]
  },
  {
   "cell_type": "code",
   "execution_count": 7,
   "metadata": {},
   "outputs": [],
   "source": [
    "raw_data.tocsv(OUT_PATH / 'attainment_scores_pcon_2010.csv')"
   ]
  },
  {
   "cell_type": "code",
   "execution_count": null,
   "metadata": {},
   "outputs": [],
   "source": []
  }
 ],
 "metadata": {
  "kernelspec": {
   "display_name": "Python 3",
   "language": "python",
   "name": "python3"
  },
  "language_info": {
   "codemirror_mode": {
    "name": "ipython",
    "version": 3
   },
   "file_extension": ".py",
   "mimetype": "text/x-python",
   "name": "python",
   "nbconvert_exporter": "python",
   "pygments_lexer": "ipython3",
   "version": "3.10.12"
  },
  "orig_nbformat": 4
 },
 "nbformat": 4,
 "nbformat_minor": 2
}
