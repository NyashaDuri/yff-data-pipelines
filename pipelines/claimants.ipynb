{
 "cells": [
  {
   "cell_type": "code",
   "execution_count": null,
   "metadata": {},
   "outputs": [],
   "source": [
    "import os\n",
    "import pandas as pd\n",
    "import geopandas as gpd"
   ]
  },
  {
   "cell_type": "code",
   "execution_count": null,
   "metadata": {},
   "outputs": [],
   "source": [
    "column_name_mapper = {\n",
    "  'obs_value': 'value',\n",
    "  'c_age_name': 'age',\n",
    "  'age_name': 'age',\n",
    "  'gender_name': 'gender'\n",
    "}\n",
    "age_value_mapper = {\n",
    "  'All categories: Age 16+': 'Aged 16+',\n",
    "  'Aged 16 to 24': 'Aged 16-24'\n",
    "}"
   ]
  },
  {
   "cell_type": "code",
   "execution_count": null,
   "metadata": {},
   "outputs": [],
   "source": [
    "claimant_columns = ['GEOGRAPHY_CODE', 'GEOGRAPHY_NAME', 'GENDER_NAME', 'AGE_NAME', 'MEASURE_NAME', 'OBS_VALUE']\n",
    "claimants = pd.read_csv('../data/raw/claimants-by-pcon-2010-latest.csv', usecols=claimant_columns)\n",
    "claimants.columns = claimants.columns.str.lower()\n",
    "claimants = claimants.rename(columns=column_name_mapper)\n",
    "claimants = claimants.replace({ 'age': age_value_mapper })\n",
    "claimants"
   ]
  },
  {
   "cell_type": "markdown",
   "metadata": {},
   "source": [
    "This is population estimates for England and Wales only!"
   ]
  },
  {
   "cell_type": "code",
   "execution_count": null,
   "metadata": {},
   "outputs": [],
   "source": [
    "population_columns = ['GEOGRAPHY_CODE', 'GEOGRAPHY_NAME', 'GENDER_NAME', 'C_AGE_NAME', 'OBS_VALUE']\n",
    "population = pd.read_csv('../data/raw/population-estimates-by-pcon-2010-latest.csv', usecols=population_columns)\n",
    "population.columns = population.columns.str.lower()\n",
    "population['measure_name'] = 'Population estimate'\n",
    "population = population.rename(columns=column_name_mapper)\n",
    "population = population.replace({ 'age': age_value_mapper })\n",
    "population"
   ]
  },
  {
   "cell_type": "code",
   "execution_count": null,
   "metadata": {},
   "outputs": [],
   "source": [
    "data = pd.concat([population, claimants]).pivot(index=['geography_code', 'geography_name', 'age', 'gender'], columns='measure_name', values='value')\n",
    "data"
   ]
  },
  {
   "cell_type": "code",
   "execution_count": null,
   "metadata": {},
   "outputs": [],
   "source": [
    "data['Claimants percentage'] = data['Claimant count'] / data['Population estimate'] * 100\n",
    "data[data['Claimants percentage'].notna()].reset_index().geography_code.str.slice(0, 1).unique()"
   ]
  },
  {
   "cell_type": "code",
   "execution_count": null,
   "metadata": {},
   "outputs": [],
   "source": [
    "DATA_FILE = '../data/processed/claimants/claimants-per-population-latest.csv'\n",
    "os.makedirs(os.path.dirname(DATA_FILE), exist_ok=True)\n",
    "data.to_csv(DATA_FILE)"
   ]
  },
  {
   "cell_type": "code",
   "execution_count": null,
   "metadata": {},
   "outputs": [],
   "source": [
    "map_data = (\n",
    "  gpd.read_file('../data/reference/pcon.geojson')\n",
    "    .merge(\n",
    "      data.reset_index().pivot(index='geography_code', columns='age', values='Claimants percentage'),\n",
    "      left_on='PCON21CD',\n",
    "      right_index=True,\n",
    "      how='outer'\n",
    "    )\n",
    ")"
   ]
  },
  {
   "cell_type": "code",
   "execution_count": null,
   "metadata": {},
   "outputs": [],
   "source": [
    "map_data.columns"
   ]
  },
  {
   "cell_type": "code",
   "execution_count": null,
   "metadata": {},
   "outputs": [],
   "source": [
    "import matplotlib.pyplot as plt\n",
    "\n",
    "map_data.plot(\n",
    "    column='Aged 16-24',\n",
    "    legend=True,\n",
    "    legend_kwds={\"label\": \"% Claimants per capita (Aged 16-24)\", \"orientation\": \"vertical\"},\n",
    "    figsize=(10,10)\n",
    ").set_axis_off()"
   ]
  },
  {
   "cell_type": "code",
   "execution_count": null,
   "metadata": {},
   "outputs": [],
   "source": []
  }
 ],
 "metadata": {
  "kernelspec": {
   "display_name": "yff-data-pipeline-9Di0ELhI",
   "language": "python",
   "name": "python3"
  },
  "language_info": {
   "codemirror_mode": {
    "name": "ipython",
    "version": 3
   },
   "file_extension": ".py",
   "mimetype": "text/x-python",
   "name": "python",
   "nbconvert_exporter": "python",
   "pygments_lexer": "ipython3",
   "version": "3.10.12"
  },
  "orig_nbformat": 4
 },
 "nbformat": 4,
 "nbformat_minor": 2
}
