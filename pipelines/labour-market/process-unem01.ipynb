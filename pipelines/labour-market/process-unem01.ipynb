{
 "cells": [
  {
   "cell_type": "code",
   "execution_count": null,
   "metadata": {},
   "outputs": [],
   "source": [
    "import os\n",
    "import pandas as pd\n",
    "from ons import get_sheet_names, detect_id_row, get_headers, clean_measure_column, clean_measure_type_column, add_group, load_data, create_date_column, melt_table"
   ]
  },
  {
   "cell_type": "markdown",
   "metadata": {},
   "source": []
  },
  {
   "cell_type": "code",
   "execution_count": null,
   "metadata": {},
   "outputs": [],
   "source": [
    "unem01_file = '../../data/raw/unem01-latest.xls'"
   ]
  },
  {
   "cell_type": "code",
   "execution_count": null,
   "metadata": {},
   "outputs": [],
   "source": [
    "sheets = get_sheet_names(unem01_file)\n",
    "sheets"
   ]
  },
  {
   "cell_type": "code",
   "execution_count": null,
   "metadata": {},
   "outputs": [],
   "source": [
    "id_row = detect_id_row(unem01_file)"
   ]
  },
  {
   "cell_type": "code",
   "execution_count": null,
   "metadata": {},
   "outputs": [],
   "source": [
    "headers = pd.concat(\n",
    "    [\n",
    "        get_headers(unem01_file, s, id_row)\n",
    "        .pipe(clean_measure_column)\n",
    "        .pipe(clean_measure_type_column)\n",
    "        .pipe(add_group, s)\n",
    "        for s in sheets[1:]\n",
    "    ]).sort_index()\n",
    "headers.loc[headers.measure.str.match('%'), ['measure_type']] = 'rate %'\n",
    "headers"
   ]
  },
  {
   "cell_type": "code",
   "execution_count": null,
   "metadata": {},
   "outputs": [],
   "source": [
    "headers_file = '../../data/metadata/labour-market/unem01-codes.csv'\n",
    "os.makedirs(os.path.dirname(headers_file), exist_ok=True)\n",
    "headers.to_csv(headers_file)"
   ]
  },
  {
   "cell_type": "code",
   "execution_count": null,
   "metadata": {},
   "outputs": [],
   "source": [
    "data = pd.concat([\n",
    "  load_data(unem01_file, s, id_row).pipe(create_date_column).pipe(melt_table).merge(headers, left_on='variable_name', right_index=True)\n",
    "  for s\n",
    "  in sheets[1:]\n",
    "])"
   ]
  },
  {
   "cell_type": "code",
   "execution_count": null,
   "metadata": {},
   "outputs": [],
   "source": [
    "out_file = '../../data/processed/labour-market/unem01.csv'\n",
    "os.makedirs(os.path.dirname(out_file), exist_ok=True)\n",
    "data.to_csv(out_file, index=False)"
   ]
  },
  {
   "cell_type": "code",
   "execution_count": null,
   "metadata": {},
   "outputs": [],
   "source": []
  }
 ],
 "metadata": {
  "kernelspec": {
   "display_name": "yff-data-pipeline-9Di0ELhI",
   "language": "python",
   "name": "python3"
  },
  "language_info": {
   "codemirror_mode": {
    "name": "ipython",
    "version": 3
   },
   "file_extension": ".py",
   "mimetype": "text/x-python",
   "name": "python",
   "nbconvert_exporter": "python",
   "pygments_lexer": "ipython3",
   "version": "3.10.12"
  },
  "orig_nbformat": 4
 },
 "nbformat": 4,
 "nbformat_minor": 2
}
