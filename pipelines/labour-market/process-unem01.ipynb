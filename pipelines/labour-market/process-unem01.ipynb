{
 "cells": [
  {
   "cell_type": "code",
   "execution_count": 1,
   "metadata": {},
   "outputs": [],
   "source": [
    "import os\n",
    "import pandas as pd\n",
    "from ons import get_sheet_names, detect_id_row, get_headers, add_group, load_data, create_date_column, melt_table"
   ]
  },
  {
   "cell_type": "markdown",
   "metadata": {},
   "source": []
  },
  {
   "cell_type": "code",
   "execution_count": 2,
   "metadata": {},
   "outputs": [],
   "source": [
    "unem01_file = '../../data/raw/unem01-latest.xls'"
   ]
  },
  {
   "cell_type": "code",
   "execution_count": 3,
   "metadata": {},
   "outputs": [
    {
     "data": {
      "text/plain": [
       "['Note', 'People', 'Men', 'Women']"
      ]
     },
     "execution_count": 3,
     "metadata": {},
     "output_type": "execute_result"
    }
   ],
   "source": [
    "sheets = get_sheet_names(unem01_file)\n",
    "sheets"
   ]
  },
  {
   "cell_type": "code",
   "execution_count": 4,
   "metadata": {},
   "outputs": [],
   "source": [
    "id_row = detect_id_row(unem01_file)"
   ]
  },
  {
   "cell_type": "code",
   "execution_count": 5,
   "metadata": {},
   "outputs": [
    {
     "data": {
      "text/html": [
       "<div>\n",
       "<style scoped>\n",
       "    .dataframe tbody tr th:only-of-type {\n",
       "        vertical-align: middle;\n",
       "    }\n",
       "\n",
       "    .dataframe tbody tr th {\n",
       "        vertical-align: top;\n",
       "    }\n",
       "\n",
       "    .dataframe thead th {\n",
       "        text-align: right;\n",
       "    }\n",
       "</style>\n",
       "<table border=\"1\" class=\"dataframe\">\n",
       "  <thead>\n",
       "    <tr style=\"text-align: right;\">\n",
       "      <th></th>\n",
       "      <th>age</th>\n",
       "      <th>category</th>\n",
       "      <th>measure_type</th>\n",
       "      <th>group</th>\n",
       "    </tr>\n",
       "    <tr>\n",
       "      <th>Dataset identifier code</th>\n",
       "      <th></th>\n",
       "      <th></th>\n",
       "      <th></th>\n",
       "      <th></th>\n",
       "    </tr>\n",
       "  </thead>\n",
       "  <tbody>\n",
       "    <tr>\n",
       "      <th>MGSC</th>\n",
       "      <td>All aged 16 &amp; over</td>\n",
       "      <td>All</td>\n",
       "      <td>level</td>\n",
       "      <td>People</td>\n",
       "    </tr>\n",
       "    <tr>\n",
       "      <th>MGSX</th>\n",
       "      <td>All aged 16 &amp; over</td>\n",
       "      <td>All</td>\n",
       "      <td>rate (%)1</td>\n",
       "      <td>People</td>\n",
       "    </tr>\n",
       "    <tr>\n",
       "      <th>YBWF</th>\n",
       "      <td>All aged 16 &amp; over</td>\n",
       "      <td>Up to 6 months</td>\n",
       "      <td>level</td>\n",
       "      <td>People</td>\n",
       "    </tr>\n",
       "    <tr>\n",
       "      <th>YBWG</th>\n",
       "      <td>All aged 16 &amp; over</td>\n",
       "      <td>Over 6 and up to 12 months</td>\n",
       "      <td>level</td>\n",
       "      <td>People</td>\n",
       "    </tr>\n",
       "    <tr>\n",
       "      <th>YBWH</th>\n",
       "      <td>All aged 16 &amp; over</td>\n",
       "      <td>All over             12 months</td>\n",
       "      <td>level</td>\n",
       "      <td>People</td>\n",
       "    </tr>\n",
       "    <tr>\n",
       "      <th>...</th>\n",
       "      <td>...</td>\n",
       "      <td>...</td>\n",
       "      <td>...</td>\n",
       "      <td>...</td>\n",
       "    </tr>\n",
       "    <tr>\n",
       "      <th>YBYY</th>\n",
       "      <td>50 and over</td>\n",
       "      <td>Up to 6 months</td>\n",
       "      <td>level</td>\n",
       "      <td>Women</td>\n",
       "    </tr>\n",
       "    <tr>\n",
       "      <th>YBZB</th>\n",
       "      <td>50 and over</td>\n",
       "      <td>Over 6 and up to 12 months</td>\n",
       "      <td>level</td>\n",
       "      <td>Women</td>\n",
       "    </tr>\n",
       "    <tr>\n",
       "      <th>YBZE</th>\n",
       "      <td>50 and over</td>\n",
       "      <td>All over             12 months</td>\n",
       "      <td>level</td>\n",
       "      <td>Women</td>\n",
       "    </tr>\n",
       "    <tr>\n",
       "      <th>YBZH</th>\n",
       "      <td>50 and over</td>\n",
       "      <td>% over 12 months</td>\n",
       "      <td>level</td>\n",
       "      <td>Women</td>\n",
       "    </tr>\n",
       "    <tr>\n",
       "      <th>YBZK</th>\n",
       "      <td>50 and over</td>\n",
       "      <td>All over 24 months</td>\n",
       "      <td>level</td>\n",
       "      <td>Women</td>\n",
       "    </tr>\n",
       "  </tbody>\n",
       "</table>\n",
       "<p>126 rows × 4 columns</p>\n",
       "</div>"
      ],
      "text/plain": [
       "                                        age                        category  \\\n",
       "Dataset identifier code                                                       \n",
       "MGSC                     All aged 16 & over                             All   \n",
       "MGSX                     All aged 16 & over                             All   \n",
       "YBWF                     All aged 16 & over                  Up to 6 months   \n",
       "YBWG                     All aged 16 & over      Over 6 and up to 12 months   \n",
       "YBWH                     All aged 16 & over  All over             12 months   \n",
       "...                                     ...                             ...   \n",
       "YBYY                            50 and over                  Up to 6 months   \n",
       "YBZB                            50 and over      Over 6 and up to 12 months   \n",
       "YBZE                            50 and over  All over             12 months   \n",
       "YBZH                            50 and over                % over 12 months   \n",
       "YBZK                            50 and over              All over 24 months   \n",
       "\n",
       "                        measure_type   group  \n",
       "Dataset identifier code                       \n",
       "MGSC                           level  People  \n",
       "MGSX                       rate (%)1  People  \n",
       "YBWF                           level  People  \n",
       "YBWG                           level  People  \n",
       "YBWH                           level  People  \n",
       "...                              ...     ...  \n",
       "YBYY                           level   Women  \n",
       "YBZB                           level   Women  \n",
       "YBZE                           level   Women  \n",
       "YBZH                           level   Women  \n",
       "YBZK                           level   Women  \n",
       "\n",
       "[126 rows x 4 columns]"
      ]
     },
     "execution_count": 5,
     "metadata": {},
     "output_type": "execute_result"
    }
   ],
   "source": [
    "headers = pd.concat([get_headers(unem01_file, s, id_row).pipe(add_group, s) for s in sheets[1:]])\n",
    "headers"
   ]
  },
  {
   "cell_type": "code",
   "execution_count": null,
   "metadata": {},
   "outputs": [],
   "source": [
    "headers_file = '../../data/metadata/labour-market/unem01-codes.csv'\n",
    "os.makedirs(os.path.dirname(headers_file), exist_ok=True)\n",
    "headers.to_csv(headers_file)"
   ]
  },
  {
   "cell_type": "code",
   "execution_count": 6,
   "metadata": {},
   "outputs": [],
   "source": [
    "data = pd.concat([\n",
    "  load_data(unem01_file, s, id_row).pipe(create_date_column).pipe(melt_table).merge(headers, left_on='variable_name', right_index=True)\n",
    "  for s\n",
    "  in sheets[1:]\n",
    "])"
   ]
  },
  {
   "cell_type": "code",
   "execution_count": 7,
   "metadata": {},
   "outputs": [],
   "source": [
    "out_file = '../../data/processed/labour-market/unem01.csv'\n",
    "os.makedirs(os.path.dirname(out_file), exist_ok=True)\n",
    "data.to_csv(out_file, index=False)"
   ]
  }
 ],
 "metadata": {
  "kernelspec": {
   "display_name": "yff-data-pipeline-9Di0ELhI",
   "language": "python",
   "name": "python3"
  },
  "language_info": {
   "codemirror_mode": {
    "name": "ipython",
    "version": 3
   },
   "file_extension": ".py",
   "mimetype": "text/x-python",
   "name": "python",
   "nbconvert_exporter": "python",
   "pygments_lexer": "ipython3",
   "version": "3.10.12"
  },
  "orig_nbformat": 4
 },
 "nbformat": 4,
 "nbformat_minor": 2
}
