{
 "cells": [
  {
   "cell_type": "code",
   "execution_count": null,
   "metadata": {},
   "outputs": [],
   "source": [
    "from pathlib import Path\n",
    "\n",
    "import pandas as pd\n",
    "import petl as etl\n",
    "import matplotlib.pyplot as plt\n",
    "import seaborn as sns\n",
    "\n",
    "sns.set_theme()\n",
    "%matplotlib inline"
   ]
  },
  {
   "cell_type": "code",
   "execution_count": null,
   "metadata": {},
   "outputs": [],
   "source": [
    "ROOT = Path('../..')\n",
    "\n",
    "SRC_FILE = ROOT / 'data/raw/lfs_by_pcon.csv'\n",
    "\n",
    "OUT_DIR = ROOT / 'data/processed/labour-market/'\n",
    "OUT_DIR.mkdir(parents=True, exist_ok=True)\n",
    "\n",
    "OUT_FILE = OUT_DIR / 'labour_market_by_pcon.csv'\n",
    "PQ_FILE = OUT_DIR / 'labour_market_by_pcon.parquet'"
   ]
  },
  {
   "cell_type": "markdown",
   "metadata": {},
   "source": [
    "Load the latest CSV. This is downloaded by the 'download-from-nomis-api.py' script."
   ]
  },
  {
   "cell_type": "code",
   "execution_count": null,
   "metadata": {},
   "outputs": [],
   "source": [
    "data = etl.fromcsv(\n",
    "  SRC_FILE\n",
    ").convertall(\n",
    "  lambda x: x.strip()\n",
    ").convert(\n",
    "  {\n",
    "    'DATE': etl.dateparser('%Y-%m'),\n",
    "    'OBS_VALUE': float\n",
    "  }\n",
    ").selecteq(\n",
    "  'MEASURES_NAME', 'Variable'\n",
    ").selectin(\n",
    "  'GEOGRAPHY_TYPE', ['parliamentary constituencies 2010', 'Westminster Parliamentary Constituencies (July 2024)']\n",
    ").cut(\n",
    "  'DATE', 'DATE_NAME', 'GEOGRAPHY_CODE', 'GEOGRAPHY_NAME', 'VARIABLE_CODE', 'VARIABLE_NAME', 'OBS_VALUE', 'OBS_STATUS_NAME'\n",
    ").rename({\n",
    "  'DATE': 'date',\n",
    "  'DATE_NAME': 'date_name',\n",
    "  'GEOGRAPHY_CODE': 'geography_code',\n",
    "  'GEOGRAPHY_NAME': 'geography_name',\n",
    "  'VARIABLE_CODE': 'variable_code',\n",
    "  'VARIABLE_NAME': 'variable_name',\n",
    "  'OBS_VALUE': 'value',\n",
    "  'OBS_STATUS_NAME': 'notes'\n",
    "})\n",
    "\n",
    "data"
   ]
  },
  {
   "cell_type": "markdown",
   "metadata": {},
   "source": [
    "Save the file to CSV"
   ]
  },
  {
   "cell_type": "code",
   "execution_count": null,
   "metadata": {},
   "outputs": [],
   "source": [
    "data.tocsv(OUT_FILE)"
   ]
  },
  {
   "cell_type": "markdown",
   "metadata": {},
   "source": [
    "Convert to pandas for further processing, and save Parquet file"
   ]
  },
  {
   "cell_type": "code",
   "execution_count": null,
   "metadata": {},
   "outputs": [],
   "source": [
    "frame = data.todataframe()\n",
    "frame.date = pd.to_datetime(frame.date)\n",
    "frame.to_parquet(PQ_FILE)"
   ]
  },
  {
   "cell_type": "markdown",
   "metadata": {},
   "source": [
    "Check missing data"
   ]
  },
  {
   "cell_type": "code",
   "execution_count": null,
   "metadata": {},
   "outputs": [],
   "source": [
    "def visualise_coverage(data):\n",
    "    counts = pd.DataFrame({\n",
    "      'available': data.groupby(['date', 'variable_name']).value.count(),\n",
    "      'total': data.groupby(['date', 'variable_name']).value.size()\n",
    "    })\n",
    "    coverage = pd.Series(\n",
    "      counts.available / counts.total, name='coverage'\n",
    "    ).reset_index().pivot(\n",
    "      index='variable_name', columns='date', values='coverage'\n",
    "    )\n",
    "    plt.imshow(coverage, origin='lower', cmap='viridis', interpolation='nearest', aspect='auto')\n",
    "    plt.grid(None)\n",
    "    plt.ylabel('Measure')\n",
    "    plt.yticks(ticks=range(len(coverage.index)), labels=coverage.index)\n",
    "    plt.xticks(ticks=range(len(coverage.columns)), labels=coverage.columns.to_series().dt.strftime('%b %Y'), rotation=90, horizontalalignment='center')\n",
    "    return coverage\n",
    "\n",
    "frame.pipe(visualise_coverage)"
   ]
  },
  {
   "cell_type": "markdown",
   "metadata": {},
   "source": [
    "Get the most recently published data per area, to increase coverage"
   ]
  },
  {
   "cell_type": "code",
   "execution_count": null,
   "metadata": {},
   "outputs": [],
   "source": [
    "def get_latest_available(data):\n",
    "  # Calculate dates\n",
    "  failsafe_date = data.date.min() - pd.Timedelta(\"1 days\")\n",
    "  latest_date = data.date.max()\n",
    "  # Subset the input data\n",
    "  test_data = data.loc[:, ['geography_code', 'date', 'variable_name', 'value']]\n",
    "  # Construct a failsafe (to be used in the event that there is no data available)\n",
    "  # This will have the same index as the most recent values, which we use below...\n",
    "  failsafe_data = test_data.loc[test_data.date == latest_date]\n",
    "  failsafe_data.loc[:, ['date', 'value']] = (failsafe_date, -1)\n",
    "  # Concatenate the test and failsafe_data\n",
    "  test_data = pd.concat([ test_data, failsafe_data ]).sort_values('date', ascending=True)\n",
    "  # Get the indexes for the non-zero values\n",
    "  indexes = test_data.dropna(subset='value').groupby(['geography_code', 'variable_name'])['date'].idxmax()\n",
    "  return data.loc[indexes]\n",
    "\n",
    "latest_available = frame.pipe(get_latest_available)"
   ]
  },
  {
   "cell_type": "code",
   "execution_count": null,
   "metadata": {},
   "outputs": [],
   "source": [
    "latest = frame.loc[frame.date == frame.date.max()].groupby(['variable_name']).value\n",
    "patched = latest_available.groupby(['variable_name']).value\n",
    "coverage = pd.DataFrame({\n",
    "  'latest coverage': latest.count() / latest.size() * 100,\n",
    "  'patched coverage': patched.count() / patched.size() * 100,\n",
    "})\n",
    "\n",
    "coverage"
   ]
  },
  {
   "cell_type": "code",
   "execution_count": null,
   "metadata": {},
   "outputs": [],
   "source": [
    "ax = coverage.plot.barh()"
   ]
  }
 ],
 "metadata": {
  "kernelspec": {
   "display_name": "yff-data-pipeline-9Di0ELhI",
   "language": "python",
   "name": "python3"
  },
  "language_info": {
   "codemirror_mode": {
    "name": "ipython",
    "version": 3
   },
   "file_extension": ".py",
   "mimetype": "text/x-python",
   "name": "python",
   "nbconvert_exporter": "python",
   "pygments_lexer": "ipython3",
   "version": "3.10.12"
  },
  "orig_nbformat": 4
 },
 "nbformat": 4,
 "nbformat_minor": 2
}
