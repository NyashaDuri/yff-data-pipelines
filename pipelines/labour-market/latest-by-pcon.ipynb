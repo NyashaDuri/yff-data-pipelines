{
 "cells": [
  {
   "cell_type": "code",
   "execution_count": null,
   "metadata": {},
   "outputs": [],
   "source": [
    "import os\n",
    "import pandas as pd\n",
    "import numpy as np\n",
    "import matplotlib.pyplot as plt\n",
    "import seaborn as sns\n",
    "\n",
    "sns.set_theme()\n",
    "%matplotlib inline"
   ]
  },
  {
   "cell_type": "markdown",
   "metadata": {},
   "source": [
    "Load the latest CSV. This is downloaded by the 'download-from-nomis-api.py' script."
   ]
  },
  {
   "cell_type": "code",
   "execution_count": null,
   "metadata": {},
   "outputs": [],
   "source": [
    "data = pd.read_csv(\n",
    "    '../../data/raw/lfs_by_pcon.csv',\n",
    "    parse_dates=['DATE'],\n",
    "    usecols=['DATE', 'DATE_NAME', 'GEOGRAPHY_CODE', 'GEOGRAPHY_NAME', 'GEOGRAPHY_TYPE', 'VARIABLE_CODE', 'VARIABLE_NAME', 'MEASURES_NAME', 'OBS_VALUE', 'OBS_STATUS_NAME']\n",
    ")"
   ]
  },
  {
   "cell_type": "markdown",
   "metadata": {},
   "source": [
    "Convert the column names to lower case."
   ]
  },
  {
   "cell_type": "code",
   "execution_count": null,
   "metadata": {},
   "outputs": [],
   "source": [
    "data.columns = data.columns.str.lower()"
   ]
  },
  {
   "cell_type": "markdown",
   "metadata": {},
   "source": [
    "Tidy up the `variable_name` column"
   ]
  },
  {
   "cell_type": "code",
   "execution_count": null,
   "metadata": {},
   "outputs": [],
   "source": [
    "data.variable_name = data.variable_name.str.strip()"
   ]
  },
  {
   "cell_type": "markdown",
   "metadata": {},
   "source": [
    "Rename the `obs_value` column to `value`."
   ]
  },
  {
   "cell_type": "code",
   "execution_count": null,
   "metadata": {},
   "outputs": [],
   "source": [
    "data = data.rename(\n",
    "    columns={\n",
    "      'obs_value': 'value',\n",
    "      'obs_status_name': 'notes'\n",
    "    }\n",
    ")"
   ]
  },
  {
   "cell_type": "markdown",
   "metadata": {},
   "source": [
    "Filter out only the **Variable** measures. The dataset also provides other measures such as **Numerator**, **Denominator** and **Confidence**"
   ]
  },
  {
   "cell_type": "code",
   "execution_count": null,
   "metadata": {},
   "outputs": [],
   "source": [
    "data = data.loc[ data.measures_name == 'Variable' ].drop(columns='measures_name')"
   ]
  },
  {
   "cell_type": "markdown",
   "metadata": {},
   "source": [
    "Check missing data"
   ]
  },
  {
   "cell_type": "code",
   "execution_count": null,
   "metadata": {},
   "outputs": [],
   "source": [
    "def visualise_coverage():\n",
    "    plt.imshow(coverage, origin='lower', cmap='viridis', interpolation='nearest', aspect='auto')\n",
    "    plt.grid(None)\n",
    "    plt.ylabel('Measure')\n",
    "    plt.yticks(ticks=range(len(coverage.index)), labels=coverage.index)\n",
    "    plt.xticks(ticks=range(len(coverage.columns)), labels=coverage.columns.to_series().dt.strftime('%b %Y'), rotation=90, horizontalalignment='center')\n",
    "\n",
    "counts = pd.DataFrame({\n",
    "  'available': data.groupby(['date', 'variable_name']).value.count(),\n",
    "  'total': data.groupby(['date', 'variable_name']).value.size()\n",
    "})\n",
    "coverage = pd.Series(\n",
    "  counts.available / counts.total, name='coverage'\n",
    ").reset_index().pivot(\n",
    "  index='variable_name', columns='date', values='coverage'\n",
    ")\n",
    "\n",
    "visualise_coverage()"
   ]
  },
  {
   "cell_type": "markdown",
   "metadata": {},
   "source": [
    "Get the most recently published data per area, to increase coverage"
   ]
  },
  {
   "cell_type": "code",
   "execution_count": null,
   "metadata": {},
   "outputs": [],
   "source": [
    "def get_latest_available(data):\n",
    "  # Calculate dates\n",
    "  failsafe_date = data.date.min() - pd.Timedelta(\"1 days\")\n",
    "  latest_date = data.date.max()\n",
    "  # Subset the input data\n",
    "  test_data = data.loc[:, ['geography_code', 'date', 'variable_name', 'value']]\n",
    "  # Construct a failsafe (to be used in the event that there is no data available)\n",
    "  # This will have the same index as the most recent values, which we use below...\n",
    "  failsafe_data = test_data.loc[test_data.date == latest_date]\n",
    "  failsafe_data.loc[:, ['date', 'value']] = (failsafe_date, -1)\n",
    "  # Concatenate the test and failsafe_data\n",
    "  test_data = pd.concat([ test_data, failsafe_data ]).sort_values('date', ascending=True)\n",
    "  # Get the indexes for the non-zero values\n",
    "  indexes = test_data.dropna(subset='value').groupby(['geography_code', 'variable_name'])['date'].idxmax()\n",
    "  return data.loc[indexes]\n",
    "\n",
    "latest_available = get_latest_available(data)"
   ]
  },
  {
   "cell_type": "code",
   "execution_count": null,
   "metadata": {},
   "outputs": [],
   "source": [
    "latest = data.loc[data.date == data.date.max()].groupby(['variable_name']).value\n",
    "patched = latest_available.groupby(['variable_name']).value\n",
    "coverage = pd.DataFrame({\n",
    "  'latest coverage': latest.count() / latest.size() * 100,\n",
    "  'patched coverage': patched.count() / patched.size() * 100,\n",
    "})\n",
    "\n",
    "coverage"
   ]
  },
  {
   "cell_type": "code",
   "execution_count": null,
   "metadata": {},
   "outputs": [],
   "source": [
    "ax = coverage.plot.barh()"
   ]
  },
  {
   "cell_type": "markdown",
   "metadata": {},
   "source": [
    "Save the data by parliamentary constituency to a csv"
   ]
  },
  {
   "cell_type": "code",
   "execution_count": null,
   "metadata": {},
   "outputs": [],
   "source": [
    "OUT_FILE = '../../data/processed/labour-market/most_recent_by_pcon_2010.csv'\n",
    "os.makedirs(os.path.dirname(OUT_FILE), exist_ok=True)\n",
    "latest_available.loc[ data.geography_type == 'parliamentary constituencies 2010' ].drop(columns=['geography_type']).to_csv(OUT_FILE, index=False)"
   ]
  }
 ],
 "metadata": {
  "kernelspec": {
   "display_name": "yff-data-pipeline-9Di0ELhI",
   "language": "python",
   "name": "python3"
  },
  "language_info": {
   "codemirror_mode": {
    "name": "ipython",
    "version": 3
   },
   "file_extension": ".py",
   "mimetype": "text/x-python",
   "name": "python",
   "nbconvert_exporter": "python",
   "pygments_lexer": "ipython3",
   "version": "3.10.12"
  },
  "orig_nbformat": 4
 },
 "nbformat": 4,
 "nbformat_minor": 2
}
