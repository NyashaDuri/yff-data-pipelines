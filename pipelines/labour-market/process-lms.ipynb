{
 "cells": [
  {
   "cell_type": "code",
   "execution_count": null,
   "metadata": {},
   "outputs": [],
   "source": [
    "import os\n",
    "import pandas as pd"
   ]
  },
  {
   "cell_type": "markdown",
   "metadata": {},
   "source": [
    "Load and process the LMS file downloaded by the `get-lms.py` script"
   ]
  },
  {
   "cell_type": "code",
   "execution_count": null,
   "metadata": {},
   "outputs": [],
   "source": [
    "lms_file = '../../data/raw/lms.csv'"
   ]
  },
  {
   "cell_type": "markdown",
   "metadata": {},
   "source": [
    "Read the headers, which are the first 7 rows of the file. Transpose and set an index"
   ]
  },
  {
   "cell_type": "code",
   "execution_count": null,
   "metadata": {},
   "outputs": [],
   "source": [
    "headers = pd.read_csv(lms_file, header=None, nrows=7, index_col=0).T.set_index('CDID')\n",
    "headers"
   ]
  },
  {
   "cell_type": "markdown",
   "metadata": {},
   "source": [
    "Save metadata file"
   ]
  },
  {
   "cell_type": "code",
   "execution_count": null,
   "metadata": {},
   "outputs": [],
   "source": [
    "METADATA_FILE = '../../data/metadata/codes/lms-codes.csv'\n",
    "os.makedirs(os.path.dirname(METADATA_FILE), exist_ok=True)\n",
    "headers.to_csv(METADATA_FILE)"
   ]
  },
  {
   "cell_type": "markdown",
   "metadata": {},
   "source": [
    "Load data"
   ]
  },
  {
   "cell_type": "code",
   "execution_count": null,
   "metadata": {},
   "outputs": [],
   "source": [
    "data = pd.read_csv(lms_file, header=[1,6], index_col=0)\n",
    "data.columns = data.columns.droplevel(1)"
   ]
  },
  {
   "cell_type": "markdown",
   "metadata": {},
   "source": [
    "Process the date - this is a mixture of Yearly (`YYYY`), Quarterly (`YYYY Qx`) and Monthly  (`YYYY MMM`), based on the date format. Parse these, coercing errors into a valid null date. Store the type of date detected based on non-null values. Finally collapse these with a `ffill` to construct the `date` columm."
   ]
  },
  {
   "cell_type": "code",
   "execution_count": null,
   "metadata": {},
   "outputs": [],
   "source": [
    "raw_date = data.index.to_series()\n",
    "\n",
    "freq = pd.Series(index=raw_date.index, dtype=str)\n",
    "\n",
    "year = pd.to_datetime(raw_date, format=\"%Y\", errors=\"coerce\")\n",
    "freq.loc[year.notna()] = 'a'\n",
    "\n",
    "quarter = raw_date.str.split(r'\\sQ')\n",
    "quarter.loc[quarter.str.len() == 1] = pd.NaT\n",
    "quarter.loc[quarter.notna()] = quarter.loc[quarter.notna()].map(lambda x: f\"{x[0]}-{int(x[1])*3 -2}\").pipe(pd.to_datetime)\n",
    "freq.loc[quarter.notna()] = 'q'\n",
    "\n",
    "month = pd.to_datetime(raw_date, format=\"%Y %b\", errors=\"coerce\")\n",
    "freq.loc[month.notna()] = 'm'\n",
    "\n",
    "date = pd.DataFrame({\n",
    "  'year': year,\n",
    "  'quarter': quarter,\n",
    "  'month': month,\n",
    "  'date': None,\n",
    "  'freq': freq\n",
    "}).ffill(axis=1).drop(columns=['year', 'quarter', 'month'])"
   ]
  },
  {
   "cell_type": "markdown",
   "metadata": {},
   "source": [
    "Merge the `data` and `date` frames to create the lms data. Melt it into a long format, drop any nulls and sort by date and then variable"
   ]
  },
  {
   "cell_type": "code",
   "execution_count": null,
   "metadata": {},
   "outputs": [],
   "source": [
    "lms = data.merge(\n",
    "    date, left_index=True, right_index=True\n",
    ").melt(\n",
    "    id_vars=['date', 'freq']\n",
    ").dropna(\n",
    ").sort_values(\n",
    "    ['date', 'variable']\n",
    ")"
   ]
  },
  {
   "cell_type": "markdown",
   "metadata": {},
   "source": [
    "Save the data file"
   ]
  },
  {
   "cell_type": "code",
   "execution_count": null,
   "metadata": {},
   "outputs": [],
   "source": [
    "DATA_FILE = '../../data/processed/labour-market/lms.csv'\n",
    "os.makedirs(os.path.dirname(DATA_FILE), exist_ok=True)\n",
    "lms.to_csv(DATA_FILE, index=None)"
   ]
  }
 ],
 "metadata": {
  "kernelspec": {
   "display_name": "yff-data-pipeline-9Di0ELhI",
   "language": "python",
   "name": "python3"
  },
  "language_info": {
   "codemirror_mode": {
    "name": "ipython",
    "version": 3
   },
   "file_extension": ".py",
   "mimetype": "text/x-python",
   "name": "python",
   "nbconvert_exporter": "python",
   "pygments_lexer": "ipython3",
   "version": "3.10.12"
  },
  "orig_nbformat": 4
 },
 "nbformat": 4,
 "nbformat_minor": 2
}
