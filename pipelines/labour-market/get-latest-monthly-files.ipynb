{
 "cells": [
  {
   "cell_type": "code",
   "execution_count": 3,
   "metadata": {},
   "outputs": [],
   "source": [
    "from scraper import download_latest"
   ]
  },
  {
   "cell_type": "code",
   "execution_count": 4,
   "metadata": {},
   "outputs": [
    {
     "ename": "NameError",
     "evalue": "name 'download_file' is not defined",
     "output_type": "error",
     "traceback": [
      "\u001b[0;31m---------------------------------------------------------------------------\u001b[0m",
      "\u001b[0;31mNameError\u001b[0m                                 Traceback (most recent call last)",
      "Cell \u001b[0;32mIn[4], line 1\u001b[0m\n\u001b[0;32m----> 1\u001b[0m download_latest(\n\u001b[1;32m      2\u001b[0m   \u001b[39m'\u001b[39;49m\u001b[39mhttps://www.ons.gov.uk/employmentandlabourmarket/peopleinwork/employmentandemployeetypes/datasets/educationalstatusandlabourmarketstatusforpeopleagedfrom16to24seasonallyadjusteda06sa\u001b[39;49m\u001b[39m'\u001b[39;49m,\n\u001b[1;32m      3\u001b[0m   \u001b[39m'\u001b[39;49m\u001b[39m../../data/raw/a06-latest.xls\u001b[39;49m\u001b[39m'\u001b[39;49m\n\u001b[1;32m      4\u001b[0m )\n",
      "File \u001b[0;32m/media/data/code/oi/yff-data-pipeline/pipelines/labour-market/scraper.py:42\u001b[0m, in \u001b[0;36mdownload_latest\u001b[0;34m(link, file, pattern, index)\u001b[0m\n\u001b[1;32m     40\u001b[0m \u001b[39mdef\u001b[39;00m \u001b[39mdownload_latest\u001b[39m(link, file, pattern\u001b[39m=\u001b[39m\u001b[39m'\u001b[39m\u001b[39m.xlsx\u001b[39m\u001b[39m{\u001b[39m\u001b[39m0,1}$\u001b[39m\u001b[39m'\u001b[39m, index\u001b[39m=\u001b[39m\u001b[39m0\u001b[39m):\n\u001b[1;32m     41\u001b[0m     url \u001b[39m=\u001b[39m get_filename(link, pattern\u001b[39m=\u001b[39mpattern, index\u001b[39m=\u001b[39mindex)\n\u001b[0;32m---> 42\u001b[0m     download_file(url, file)\n",
      "\u001b[0;31mNameError\u001b[0m: name 'download_file' is not defined"
     ]
    }
   ],
   "source": [
    "download_latest(\n",
    "  'https://www.ons.gov.uk/employmentandlabourmarket/peopleinwork/employmentandemployeetypes/datasets/educationalstatusandlabourmarketstatusforpeopleagedfrom16to24seasonallyadjusteda06sa',\n",
    "  '../../data/raw/a06-latest.xls'\n",
    ")"
   ]
  },
  {
   "cell_type": "code",
   "execution_count": null,
   "metadata": {},
   "outputs": [],
   "source": [
    "download_latest(\n",
    "  'https://www.ons.gov.uk/employmentandlabourmarket/peoplenotinwork/unemployment/datasets/unemploymentbyageanddurationseasonallyadjustedunem01sa',\n",
    "  '../../data/raw/unem01-latest.xls'\n",
    ")"
   ]
  }
 ],
 "metadata": {
  "kernelspec": {
   "display_name": "yff-data-pipeline-9Di0ELhI",
   "language": "python",
   "name": "python3"
  },
  "language_info": {
   "codemirror_mode": {
    "name": "ipython",
    "version": 3
   },
   "file_extension": ".py",
   "mimetype": "text/x-python",
   "name": "python",
   "nbconvert_exporter": "python",
   "pygments_lexer": "ipython3",
   "version": "3.10.12"
  },
  "orig_nbformat": 4
 },
 "nbformat": 4,
 "nbformat_minor": 2
}
