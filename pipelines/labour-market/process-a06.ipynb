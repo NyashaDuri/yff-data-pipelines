{
 "cells": [
  {
   "cell_type": "code",
   "execution_count": 6,
   "metadata": {},
   "outputs": [],
   "source": [
    "import os\n",
    "import pandas as pd\n",
    "\n",
    "from ons import get_sheet_names, detect_id_row, get_headers, clean_age_column, clean_measure_column, clean_measure_type_column, add_group, load_data, create_date_column, melt_table"
   ]
  },
  {
   "cell_type": "code",
   "execution_count": 7,
   "metadata": {},
   "outputs": [],
   "source": [
    "a06_file = '../../data/raw/a06-latest.xls'"
   ]
  },
  {
   "cell_type": "markdown",
   "metadata": {},
   "source": [
    "Get a list of sheets"
   ]
  },
  {
   "cell_type": "code",
   "execution_count": 8,
   "metadata": {},
   "outputs": [],
   "source": [
    "sheets = get_sheet_names(a06_file)"
   ]
  },
  {
   "cell_type": "markdown",
   "metadata": {},
   "source": [
    "Find the row with the IDs"
   ]
  },
  {
   "cell_type": "code",
   "execution_count": 9,
   "metadata": {},
   "outputs": [],
   "source": [
    "id_row = detect_id_row(a06_file)"
   ]
  },
  {
   "cell_type": "markdown",
   "metadata": {},
   "source": [
    "Get the headers, based on the ID row"
   ]
  },
  {
   "cell_type": "code",
   "execution_count": 10,
   "metadata": {},
   "outputs": [],
   "source": [
    "headers = pd.concat(\n",
    "    [\n",
    "        get_headers(a06_file, s, id_row=id_row)\n",
    "        .pipe(clean_age_column)\n",
    "        .pipe(clean_measure_column)\n",
    "        .pipe(clean_measure_type_column)\n",
    "        .pipe(add_group, s)\n",
    "        for s in sheets[1:]\n",
    "    ]).sort_index()"
   ]
  },
  {
   "cell_type": "markdown",
   "metadata": {},
   "source": [
    "Save metadata file"
   ]
  },
  {
   "cell_type": "code",
   "execution_count": 11,
   "metadata": {},
   "outputs": [],
   "source": [
    "METADATA_FILE = '../../data/metadata/labour-market/a06-codes.csv'\n",
    "os.makedirs(os.path.dirname(METADATA_FILE), exist_ok=True)\n",
    "headers.to_csv(METADATA_FILE)"
   ]
  },
  {
   "cell_type": "markdown",
   "metadata": {},
   "source": [
    "Load and reshape the data for all sheets"
   ]
  },
  {
   "cell_type": "code",
   "execution_count": 12,
   "metadata": {},
   "outputs": [],
   "source": [
    "data = pd.concat([\n",
    "  load_data(a06_file, s, id_row)\n",
    "    .pipe(create_date_column)\n",
    "    .pipe(melt_table)\n",
    "    .merge(headers, left_on='variable_name', right_index=True)\n",
    "  for s\n",
    "  in sheets[1:]\n",
    "]).sort_values(by=['date', 'variable_name'])"
   ]
  },
  {
   "cell_type": "markdown",
   "metadata": {},
   "source": [
    "Save the data file"
   ]
  },
  {
   "cell_type": "code",
   "execution_count": 13,
   "metadata": {},
   "outputs": [],
   "source": [
    "DATA_FILE = '../../data/processed/labour-market/a06.csv'\n",
    "os.makedirs(os.path.dirname(DATA_FILE), exist_ok=True)\n",
    "data.to_csv(DATA_FILE, index=None)"
   ]
  }
 ],
 "metadata": {
  "kernelspec": {
   "display_name": "yff-data-pipeline-9Di0ELhI",
   "language": "python",
   "name": "python3"
  },
  "language_info": {
   "codemirror_mode": {
    "name": "ipython",
    "version": 3
   },
   "file_extension": ".py",
   "mimetype": "text/x-python",
   "name": "python",
   "nbconvert_exporter": "python",
   "pygments_lexer": "ipython3",
   "version": "3.10.12"
  },
  "orig_nbformat": 4
 },
 "nbformat": 4,
 "nbformat_minor": 2
}
