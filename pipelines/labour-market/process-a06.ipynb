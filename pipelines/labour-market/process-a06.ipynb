{
 "cells": [
  {
   "cell_type": "code",
   "execution_count": 60,
   "metadata": {},
   "outputs": [],
   "source": [
    "import pandas as pd\n",
    "import xlrd\n",
    "import os"
   ]
  },
  {
   "cell_type": "markdown",
   "metadata": {},
   "source": [
    "Get a list of sheets"
   ]
  },
  {
   "cell_type": "code",
   "execution_count": 61,
   "metadata": {},
   "outputs": [
    {
     "data": {
      "text/plain": [
       "['Note', 'People', 'Men', 'Women']"
      ]
     },
     "execution_count": 61,
     "metadata": {},
     "output_type": "execute_result"
    }
   ],
   "source": [
    "sheets = xlrd.open_workbook('../../data/raw/a06-latest.xls').sheet_names()\n",
    "sheets"
   ]
  },
  {
   "cell_type": "markdown",
   "metadata": {},
   "source": [
    "Find the row with the IDs"
   ]
  },
  {
   "cell_type": "code",
   "execution_count": 62,
   "metadata": {},
   "outputs": [],
   "source": [
    "test = pd.read_excel('../../data/raw/a06-latest.xls', sheet_name='People', header=None, usecols=[0])[0]\n",
    "id_row = test[test == 'Dataset identifier code'].index.to_list().pop()"
   ]
  },
  {
   "cell_type": "markdown",
   "metadata": {},
   "source": [
    "Get the headers, based on the ID row"
   ]
  },
  {
   "cell_type": "code",
   "execution_count": 80,
   "metadata": {},
   "outputs": [],
   "source": [
    "def get_headers(sheet_name, id_row):\n",
    "    headers = pd.read_excel('../../data/raw/a06-latest.xls', sheet_name=sheet_name, index_col=0, header=None).head(id_row+1).T.set_index('Dataset identifier code').ffill()\n",
    "    headers = headers.loc[:, headers.columns.isna()]\n",
    "    headers.columns = ['age', 'variable', 'measure']\n",
    "    return headers\n",
    "  \n",
    "  \n",
    "def add_group(data, value):\n",
    "    data['group'] = value\n",
    "    return data\n",
    "\n",
    "headers = pd.concat([get_headers(s, id_row=id_row).pipe(add_group, s) for s in sheets[1:]]).sort_index()"
   ]
  },
  {
   "cell_type": "markdown",
   "metadata": {},
   "source": [
    "Save metadata file"
   ]
  },
  {
   "cell_type": "code",
   "execution_count": 81,
   "metadata": {},
   "outputs": [],
   "source": [
    "METADATA_FILE = '../../data/metadata/labour-market/a06-codes.csv'\n",
    "os.makedirs(os.path.dirname(METADATA_FILE), exist_ok=True)\n",
    "headers.to_csv(METADATA_FILE)"
   ]
  },
  {
   "cell_type": "markdown",
   "metadata": {},
   "source": [
    "# Processing functions\n",
    "\n",
    "The following functions are used to process data from the sheets."
   ]
  },
  {
   "cell_type": "markdown",
   "metadata": {},
   "source": [
    "Load the data"
   ]
  },
  {
   "cell_type": "code",
   "execution_count": 64,
   "metadata": {},
   "outputs": [],
   "source": [
    "def load_data(sheet_name, id_row):\n",
    "    data = pd.read_excel('../../data/raw/a06-latest.xls', sheet_name=sheet_name, skiprows=id_row).rename(columns={ 'Dataset identifier code': 'date_name' })\n",
    "    data = data[data.iloc[:, 1].notna()]\n",
    "    return data"
   ]
  },
  {
   "cell_type": "markdown",
   "metadata": {},
   "source": [
    "Construct the date - this marked as the centre month of the rolling period"
   ]
  },
  {
   "cell_type": "code",
   "execution_count": 65,
   "metadata": {},
   "outputs": [],
   "source": [
    "def create_date_column(data):\n",
    "    data['date'] = pd.to_datetime(data.date_name.str.slice(4), format=\"%b %Y\") - pd.DateOffset(months=1)\n",
    "    return data"
   ]
  },
  {
   "cell_type": "markdown",
   "metadata": {},
   "source": [
    "Normalise by melting wide column to narrow"
   ]
  },
  {
   "cell_type": "code",
   "execution_count": 66,
   "metadata": {},
   "outputs": [],
   "source": [
    "def make_long(data):\n",
    "    return data.melt(id_vars=['date', 'date_name'], var_name='variable_name')"
   ]
  },
  {
   "cell_type": "code",
   "execution_count": 74,
   "metadata": {},
   "outputs": [],
   "source": [
    "data = pd.concat([\n",
    "  load_data(s, id_row).pipe(create_date_column).pipe(make_long)\n",
    "  for s\n",
    "  in sheets[1:]\n",
    "]).sort_values(by=['date', 'variable_name'])"
   ]
  },
  {
   "cell_type": "code",
   "execution_count": 75,
   "metadata": {},
   "outputs": [],
   "source": [
    "DATA_FILE = '../../data/processed/labour-market/a06.csv'\n",
    "os.makedirs(os.path.dirname(DATA_FILE), exist_ok=True)\n",
    "data.to_csv(DATA_FILE, index=None)"
   ]
  }
 ],
 "metadata": {
  "kernelspec": {
   "display_name": "yff-data-pipeline-9Di0ELhI",
   "language": "python",
   "name": "python3"
  },
  "language_info": {
   "codemirror_mode": {
    "name": "ipython",
    "version": 3
   },
   "file_extension": ".py",
   "mimetype": "text/x-python",
   "name": "python",
   "nbconvert_exporter": "python",
   "pygments_lexer": "ipython3",
   "version": "3.10.12"
  },
  "orig_nbformat": 4
 },
 "nbformat": 4,
 "nbformat_minor": 2
}
