{
 "cells": [
  {
   "cell_type": "code",
   "execution_count": 2,
   "metadata": {},
   "outputs": [],
   "source": [
    "from pathlib import Path\n",
    "import pandas as pd"
   ]
  },
  {
   "cell_type": "markdown",
   "metadata": {},
   "source": [
    "Setup input dir."
   ]
  },
  {
   "cell_type": "code",
   "execution_count": 3,
   "metadata": {},
   "outputs": [],
   "source": [
    "RAW_DATA = Path('../../data/raw/oecd/')"
   ]
  },
  {
   "cell_type": "markdown",
   "metadata": {},
   "source": [
    "Create output dir"
   ]
  },
  {
   "cell_type": "code",
   "execution_count": 4,
   "metadata": {},
   "outputs": [],
   "source": [
    "OUTPUT_DIR = Path('../../data/processed/oecd/')\n",
    "OUTPUT_DIR.mkdir(parents=True, exist_ok=True)"
   ]
  },
  {
   "cell_type": "markdown",
   "metadata": {},
   "source": [
    "Process the LFS data"
   ]
  },
  {
   "cell_type": "code",
   "execution_count": 5,
   "metadata": {},
   "outputs": [],
   "source": [
    "lfs = pd.read_csv(\n",
    "    RAW_DATA.joinpath('lfs_by_sex_and_age.csv'),\n",
    "    usecols = [    \n",
    "        'COUNTRY',\n",
    "        'Country',\n",
    "        'Sex',\n",
    "        'Age',\n",
    "        'Series',\n",
    "        'Frequency',\n",
    "        'Time',\n",
    "        'PowerCode',\n",
    "        'Value'\n",
    "    ]\n",
    ").set_index('Country')\n",
    "\n",
    "lfs.columns = lfs.columns.str.strip()\n",
    "\n",
    "lfs.to_csv(OUTPUT_DIR.joinpath('lfs_by_sex_and_age.csv'))"
   ]
  },
  {
   "cell_type": "markdown",
   "metadata": {},
   "source": [
    "Process the NEET data"
   ]
  },
  {
   "cell_type": "code",
   "execution_count": 13,
   "metadata": {},
   "outputs": [],
   "source": [
    "neet = pd.read_csv(\n",
    "    RAW_DATA.joinpath('neet.csv'),\n",
    "    usecols=[\n",
    "      'LOCATION',\n",
    "      'INDICATOR',\n",
    "      'SUBJECT',\n",
    "      'MEASURE',\n",
    "      'FREQUENCY',\n",
    "      'TIME',\n",
    "      'Value',\n",
    "    ]\n",
    ")\n",
    "\n",
    "neet.columns = neet.columns.str.strip()\n",
    "\n",
    "neet.rename(\n",
    "  columns={\n",
    "    'LOCATION': 'country_code',\n",
    "    'INDICATOR': 'indicator',\n",
    "    'SUBJECT': 'age_range',\n",
    "    'MEASURE': 'measure',\n",
    "    'FREQUENCY': 'frequency',\n",
    "    'TIME': 'time',\n",
    "    'Value': 'value'\n",
    "  },\n",
    "  inplace=True\n",
    ")\n",
    "\n",
    "neet.to_csv(OUTPUT_DIR.joinpath('neet.csv'), index=False)"
   ]
  },
  {
   "cell_type": "markdown",
   "metadata": {},
   "source": [
    "Process the wage levels data"
   ]
  },
  {
   "cell_type": "code",
   "execution_count": 15,
   "metadata": {},
   "outputs": [],
   "source": [
    "wage_levels = pd.read_csv(\n",
    "    RAW_DATA.joinpath('wage_levels.csv'),\n",
    "    usecols=[\n",
    "      'LOCATION',\n",
    "      'INDICATOR',\n",
    "      'SUBJECT',\n",
    "      'MEASURE',\n",
    "      'FREQUENCY',\n",
    "      'TIME',\n",
    "      'Value',\n",
    "    ]\n",
    ")\n",
    "\n",
    "wage_levels.columns = wage_levels.columns.str.strip()\n",
    "\n",
    "wage_levels.rename(\n",
    "  columns={\n",
    "    'LOCATION': 'country_code',\n",
    "    'INDICATOR': 'indicator',\n",
    "    'SUBJECT': 'subject',\n",
    "    'MEASURE': 'measure',\n",
    "    'FREQUENCY': 'frequency',\n",
    "    'TIME': 'time',\n",
    "    'Value': 'value'\n",
    "  },\n",
    "  inplace=True\n",
    ")\n",
    "\n",
    "wage_levels.to_csv(OUTPUT_DIR.joinpath('wage_levels.csv'), index=False)"
   ]
  },
  {
   "cell_type": "code",
   "execution_count": null,
   "metadata": {},
   "outputs": [],
   "source": []
  }
 ],
 "metadata": {
  "kernelspec": {
   "display_name": "Python 3",
   "language": "python",
   "name": "python3"
  },
  "language_info": {
   "codemirror_mode": {
    "name": "ipython",
    "version": 3
   },
   "file_extension": ".py",
   "mimetype": "text/x-python",
   "name": "python",
   "nbconvert_exporter": "python",
   "pygments_lexer": "ipython3",
   "version": "3.10.12"
  },
  "orig_nbformat": 4
 },
 "nbformat": 4,
 "nbformat_minor": 2
}
