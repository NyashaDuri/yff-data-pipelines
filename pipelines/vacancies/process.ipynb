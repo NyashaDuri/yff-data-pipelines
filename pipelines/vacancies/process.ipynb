{
 "cells": [
  {
   "cell_type": "code",
   "execution_count": null,
   "metadata": {},
   "outputs": [],
   "source": [
    "\n",
    "import os\n",
    "import re\n",
    "\n",
    "import pandas as pd"
   ]
  },
  {
   "cell_type": "markdown",
   "metadata": {},
   "source": [
    "Load the CSV"
   ]
  },
  {
   "cell_type": "code",
   "execution_count": null,
   "metadata": {},
   "outputs": [],
   "source": [
    "SOURCE_CSV='../../data/raw/vacancies-by-sector.csv'\n",
    "data = pd.read_csv(SOURCE_CSV, header=6)"
   ]
  },
  {
   "cell_type": "markdown",
   "metadata": {},
   "source": [
    "Also load the CSV title - which is in the CSV 'header'"
   ]
  },
  {
   "cell_type": "code",
   "execution_count": null,
   "metadata": {},
   "outputs": [],
   "source": [
    "title = pd.read_csv(SOURCE_CSV, nrows=1, skiprows=1, header=None, usecols=[0]).iloc[0, 0]\n",
    "title"
   ]
  },
  {
   "cell_type": "markdown",
   "metadata": {},
   "source": [
    "Extract the date of the 'current quarter' from the title"
   ]
  },
  {
   "cell_type": "code",
   "execution_count": null,
   "metadata": {},
   "outputs": [],
   "source": [
    "def make_date(match):\n",
    "    start_month, end_month, year = match.groups()\n",
    "    date = pd.to_datetime(f'{start_month} {year}')\n",
    "    return date.isoformat().split('T')[0]\n",
    "\n",
    "date = re.sub(r'^(\\w+)\\s+to\\s+(\\w+)\\s+(\\d+).*', repl=make_date, string=title)"
   ]
  },
  {
   "cell_type": "markdown",
   "metadata": {},
   "source": [
    "Rename some columns to be more generic"
   ]
  },
  {
   "cell_type": "code",
   "execution_count": null,
   "metadata": {},
   "outputs": [],
   "source": [
    "\n",
    "data = data.rename(columns={\n",
    "  data.columns[0]: 'Sector',\n",
    "  data.columns[1]: 'Growth since previous quarter (%)',\n",
    "  data.columns[2]: 'Growth since pre-coronavirus January to March 2020 (%)',\n",
    "})\n",
    "data"
   ]
  },
  {
   "cell_type": "markdown",
   "metadata": {},
   "source": [
    "Convert to long format"
   ]
  },
  {
   "cell_type": "code",
   "execution_count": null,
   "metadata": {},
   "outputs": [],
   "source": [
    "data = data.melt(id_vars=['Sector'])"
   ]
  },
  {
   "cell_type": "markdown",
   "metadata": {},
   "source": [
    "Calculate if the sector is a key or wanted youth sector."
   ]
  },
  {
   "cell_type": "code",
   "execution_count": null,
   "metadata": {},
   "outputs": [],
   "source": [
    "key_youth_sectors = [\n",
    "  'Human health & social work activities',\n",
    "  'Accommodation & food service activities',\n",
    "]\n",
    "\n",
    "wanted_youth_sectors = [\n",
    "  'Arts entertainment & recreation',\n",
    "  'Financial & insurance activities',\n",
    "  'Professional scientific & technical activities',\n",
    "]\n",
    "\n",
    "data = pd.concat([\n",
    "  data,\n",
    "  pd.Series(data.Sector.isin(key_youth_sectors), name='key_youth_sectors'),\n",
    "  pd.Series(data.Sector.isin(wanted_youth_sectors), name='wanted_youth_sectors')\n",
    "], axis=1)"
   ]
  },
  {
   "cell_type": "markdown",
   "metadata": {},
   "source": [
    "Add the date"
   ]
  },
  {
   "cell_type": "code",
   "execution_count": null,
   "metadata": {},
   "outputs": [],
   "source": [
    "data['date'] = date"
   ]
  },
  {
   "cell_type": "markdown",
   "metadata": {},
   "source": [
    "Reorder the columns"
   ]
  },
  {
   "cell_type": "code",
   "execution_count": null,
   "metadata": {},
   "outputs": [],
   "source": [
    "data = data.loc[:, [\n",
    "  'date',\n",
    "  'Sector',\n",
    "  'key_youth_sectors',\n",
    "  'wanted_youth_sectors',\n",
    "  'variable',\n",
    "  'value',\n",
    "]]"
   ]
  },
  {
   "cell_type": "markdown",
   "metadata": {},
   "source": [
    "Save to CSV file"
   ]
  },
  {
   "cell_type": "code",
   "execution_count": null,
   "metadata": {},
   "outputs": [],
   "source": [
    "OUTPUT_FILE='../../data/processed/vacancies/vacancies-growth-by-sector.csv'\n",
    "os.makedirs(os.path.dirname(OUTPUT_FILE), exist_ok=True)\n",
    "data.to_csv(OUTPUT_FILE, index=False)"
   ]
  },
  {
   "cell_type": "code",
   "execution_count": null,
   "metadata": {},
   "outputs": [],
   "source": []
  }
 ],
 "metadata": {
  "kernelspec": {
   "display_name": "yff-data-pipeline-9Di0ELhI",
   "language": "python",
   "name": "python3"
  },
  "language_info": {
   "codemirror_mode": {
    "name": "ipython",
    "version": 3
   },
   "file_extension": ".py",
   "mimetype": "text/x-python",
   "name": "python",
   "nbconvert_exporter": "python",
   "pygments_lexer": "ipython3",
   "version": "3.10.12"
  },
  "orig_nbformat": 4
 },
 "nbformat": 4,
 "nbformat_minor": 2
}
