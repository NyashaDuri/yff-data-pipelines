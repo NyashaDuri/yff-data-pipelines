{
 "cells": [
  {
   "cell_type": "code",
   "execution_count": 108,
   "metadata": {},
   "outputs": [],
   "source": [
    "import re\n",
    "import requests\n",
    "import urllib.parse\n",
    "from bs4 import BeautifulSoup"
   ]
  },
  {
   "cell_type": "markdown",
   "metadata": {},
   "source": [
    "This function searches in a web page."
   ]
  },
  {
   "cell_type": "code",
   "execution_count": 109,
   "metadata": {},
   "outputs": [],
   "source": [
    "def get_links(url, *args, **kwargs):\n",
    "    \"\"\"\n",
    "    Search in a web page for arbitrary items.\n",
    "    The url argument is required, everything else is passed to a Beautiful Soup find call.\n",
    "    \"\"\"\n",
    "    referrer = urllib.parse.urlparse(url)\n",
    "\n",
    "    def canonical(link):\n",
    "        u = urllib.parse.urlparse(link, scheme=referrer.scheme)\n",
    "        if u.netloc == '':\n",
    "            u = u._replace(netloc=referrer.netloc)\n",
    "        return u.geturl()\n",
    "\n",
    "    links = BeautifulSoup(\n",
    "        requests.get(url).text\n",
    "    ).find_all(\n",
    "        'a', *args, **kwargs\n",
    "    )\n",
    "    \n",
    "    return [canonical(l['href']) for l in links]"
   ]
  },
  {
   "cell_type": "markdown",
   "metadata": {},
   "source": [
    "First, find the latest page"
   ]
  },
  {
   "cell_type": "code",
   "execution_count": 110,
   "metadata": {},
   "outputs": [
    {
     "data": {
      "text/plain": [
       "'https://www.ons.gov.uk/employmentandlabourmarket/peopleinwork/employmentandemployeetypes/bulletins/jobsandvacanciesintheuk/september2023'"
      ]
     },
     "execution_count": 110,
     "metadata": {},
     "output_type": "execute_result"
    }
   ],
   "source": [
    "VACANCIES_URL = 'https://www.ons.gov.uk/employmentandlabourmarket/peopleinwork/employmentandemployeetypes/bulletins/jobsandvacanciesintheuk/previousReleases'\n",
    "latest_page_link = get_links(VACANCIES_URL, string=re.compile(r'Vacancies and jobs in the UK'))[0]\n",
    "latest_page_link"
   ]
  },
  {
   "cell_type": "code",
   "execution_count": 111,
   "metadata": {},
   "outputs": [
    {
     "data": {
      "text/plain": [
       "'https://www.ons.gov.uk/generator?uri=/employmentandlabourmarket/peopleinwork/employmentandemployeetypes/bulletins/jobsandvacanciesintheuk/september2023/5fe14de6&format=csv'"
      ]
     },
     "execution_count": 111,
     "metadata": {},
     "output_type": "execute_result"
    }
   ],
   "source": [
    "latest_csv = get_links(latest_page_link, href=re.compile(r'&format=csv$'))[1]\n",
    "latest_csv"
   ]
  },
  {
   "cell_type": "markdown",
   "metadata": {},
   "source": [
    "Save the latest file as a csv"
   ]
  },
  {
   "cell_type": "code",
   "execution_count": 112,
   "metadata": {},
   "outputs": [],
   "source": [
    "with open('../../data/raw/vacancies-by-sector.csv', 'wb') as f:\n",
    "    f.write(requests.get(latest_csv).content)"
   ]
  },
  {
   "cell_type": "code",
   "execution_count": null,
   "metadata": {},
   "outputs": [],
   "source": []
  }
 ],
 "metadata": {
  "kernelspec": {
   "display_name": "yff-data-pipeline-9Di0ELhI",
   "language": "python",
   "name": "python3"
  },
  "language_info": {
   "codemirror_mode": {
    "name": "ipython",
    "version": 3
   },
   "file_extension": ".py",
   "mimetype": "text/x-python",
   "name": "python",
   "nbconvert_exporter": "python",
   "pygments_lexer": "ipython3",
   "version": "3.10.12"
  },
  "orig_nbformat": 4
 },
 "nbformat": 4,
 "nbformat_minor": 2
}
