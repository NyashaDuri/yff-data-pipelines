{
 "cells": [
  {
   "cell_type": "code",
   "execution_count": 1,
   "metadata": {},
   "outputs": [],
   "source": [
    "import pandas as pd\n",
    "import openpyxl"
   ]
  },
  {
   "cell_type": "code",
   "execution_count": 2,
   "metadata": {},
   "outputs": [],
   "source": [
    "NEET_LATEST = '../../data/raw/neet-latest.xlsx'"
   ]
  },
  {
   "cell_type": "code",
   "execution_count": 3,
   "metadata": {},
   "outputs": [
    {
     "data": {
      "text/plain": [
       "['Note',\n",
       " 'People - SA',\n",
       " 'Men - SA',\n",
       " 'Women - SA',\n",
       " 'People - NSA',\n",
       " 'Men - NSA',\n",
       " 'Women - NSA',\n",
       " 'People 18-20 - NSA',\n",
       " 'People 21-22 - NSA',\n",
       " 'People 23-24 - NSA']"
      ]
     },
     "execution_count": 3,
     "metadata": {},
     "output_type": "execute_result"
    }
   ],
   "source": [
    "openpyxl.open(NEET_LATEST).sheetnames"
   ]
  },
  {
   "cell_type": "code",
   "execution_count": 7,
   "metadata": {},
   "outputs": [],
   "source": [
    "sheets = ['People - SA', 'Men - SA', 'Women - SA']"
   ]
  },
  {
   "cell_type": "code",
   "execution_count": 151,
   "metadata": {},
   "outputs": [],
   "source": [
    "def get_metadata(sheet):\n",
    "    metadata = pd.read_excel(NEET_LATEST, sheet_name=sheet, header=None, skiprows=1, nrows=1)\n",
    "    metadata = pd.Series(metadata.values.flatten())\n",
    "    metadata = metadata.dropna()\n",
    "    metadata = metadata.reset_index(drop=True)\n",
    "    metadata = pd.DataFrame(metadata.iloc[1::2].values, index=metadata.iloc[0::2].str.strip(':')).T\n",
    "    metadata = metadata.rename(\n",
    "      columns={\n",
    "        'Date of publication': 'Release Date',\n",
    "        'Date of next publication': 'Next release'\n",
    "      }\n",
    "    )\n",
    "    return metadata\n",
    "\n",
    "def get_headers(sheet):\n",
    "    headers = pd.read_excel(NEET_LATEST, sheet_name=sheet, index_col=0, header=None, skiprows=4, nrows=3).T\n",
    "    headers.index.name = 'column'\n",
    "    headers.columns = pd.Index([\n",
    "      'age',\n",
    "      'm1',\n",
    "      'm2'\n",
    "    ])\n",
    "    headers.loc[:, 'age'] = headers.loc[:, 'age'].ffill()\n",
    "    headers.loc[:, 'm1'] = headers.loc[:, 'm1'].ffill()\n",
    "    headers.loc[:, 'm2'] = headers.loc[:, 'm2'].fillna('')\n",
    "    headers = headers.reset_index()\n",
    "    headers['measure'] = headers.loc[:, ['m1', 'm2']].astype('str').apply('_'.join, axis=1).str.strip('_')\n",
    "    headers = headers.drop(columns=['m1', 'm2'])\n",
    "    headers['sheet'] = sheet\n",
    "    metadata = get_metadata(sheet)\n",
    "    headers.loc[:, metadata.columns] = metadata.iloc[0].values\n",
    "    headers = headers.set_index(['sheet', 'column'])\n",
    "    return headers\n",
    "\n",
    "headers = pd.concat([get_headers(s) for s in sheets ])\n"
   ]
  },
  {
   "cell_type": "code",
   "execution_count": 152,
   "metadata": {},
   "outputs": [],
   "source": [
    "def read_data(sheet):\n",
    "    data = pd.read_excel(NEET_LATEST, sheet, index_col=0, header=None, skiprows=9, na_values=['..', '*'])\n",
    "\n",
    "    # Get rid of trailing rows\n",
    "    data = data[data.iloc[:, 0].notna()]\n",
    "    data = data.astype(float)\n",
    "    \n",
    "    data.index.name = 'date'\n",
    "\n",
    "    # Every 5th column is a rate\n",
    "    non_rate_columns = data.columns[[(x + 1) % 5 != 0 for x in range(data.columns.size)]]\n",
    "    # Round the non-rate columns\n",
    "    data.loc[:, non_rate_columns] = data.loc[:, non_rate_columns].div(1000).round()\n",
    "    \n",
    "    data = data.melt(var_name='column',ignore_index=False)\n",
    "    data['sheet'] = sheet\n",
    "    \n",
    "    data = data.reset_index(drop=False).set_index(['sheet', 'column'])\n",
    "    return data\n",
    "\n",
    "data = pd.concat([read_data(s) for s in sheets])"
   ]
  },
  {
   "cell_type": "code",
   "execution_count": 153,
   "metadata": {},
   "outputs": [],
   "source": [
    "neet = data.merge(headers.loc[:, ['age', 'measure']], left_index=True, right_index=True).reset_index().drop(columns=['column']).set_index(['date', 'sheet', 'age', 'measure'])"
   ]
  },
  {
   "cell_type": "code",
   "execution_count": 154,
   "metadata": {},
   "outputs": [],
   "source": [
    "headers.to_csv('../../data/metadata/codes/neet-codes.csv')\n",
    "neet.to_csv('../../data/processed/neet.csv')"
   ]
  },
  {
   "cell_type": "code",
   "execution_count": null,
   "metadata": {},
   "outputs": [],
   "source": []
  }
 ],
 "metadata": {
  "kernelspec": {
   "display_name": "yff-data-pipeline-9Di0ELhI",
   "language": "python",
   "name": "python3"
  },
  "language_info": {
   "codemirror_mode": {
    "name": "ipython",
    "version": 3
   },
   "file_extension": ".py",
   "mimetype": "text/x-python",
   "name": "python",
   "nbconvert_exporter": "python",
   "pygments_lexer": "ipython3",
   "version": "3.10.12"
  },
  "orig_nbformat": 4
 },
 "nbformat": 4,
 "nbformat_minor": 2
}
