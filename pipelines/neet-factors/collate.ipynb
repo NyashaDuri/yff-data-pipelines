{
 "cells": [
  {
   "cell_type": "code",
   "execution_count": 5,
   "metadata": {},
   "outputs": [],
   "source": [
    "import os\n",
    "import pandas as pd\n"
   ]
  },
  {
   "cell_type": "markdown",
   "metadata": {},
   "source": [
    "Load `children_in_poverty` data"
   ]
  },
  {
   "cell_type": "code",
   "execution_count": 116,
   "metadata": {},
   "outputs": [],
   "source": [
    "children_in_poverty = pd.read_excel(\n",
    "    '../../data/raw/neet-factors/children-in-low-income-families-local-area-statistics-2014-to-2022.ods',\n",
    "    sheet_name='4_Absolute_Local_Authority',\n",
    "    skiprows=9,\n",
    "    usecols=[1, 17],\n",
    "    names=['geography_code', 'Children in poverty'],\n",
    "    index_col=0\n",
    ").iloc[:, 0].mul(100).round(1)"
   ]
  },
  {
   "cell_type": "markdown",
   "metadata": {},
   "source": [
    "Create base data frame"
   ]
  },
  {
   "cell_type": "code",
   "execution_count": 117,
   "metadata": {},
   "outputs": [],
   "source": [
    "local_authorities = pd.read_csv('../../data/reference/local_authorities.csv', index_col=[0])"
   ]
  },
  {
   "cell_type": "markdown",
   "metadata": {},
   "source": [
    "Collate all layers into a single file"
   ]
  },
  {
   "cell_type": "code",
   "execution_count": 140,
   "metadata": {},
   "outputs": [],
   "source": [
    "data = (\n",
    "  local_authorities\n",
    "    .join(children_in_poverty)\n",
    "    .set_index(['Local Authority Name', 'Group'], append=True)\n",
    "  )"
   ]
  },
  {
   "cell_type": "markdown",
   "metadata": {},
   "source": [
    "Save to a CSV file"
   ]
  },
  {
   "cell_type": "code",
   "execution_count": 144,
   "metadata": {},
   "outputs": [],
   "source": [
    "SOURCES_CSV='../../data/processed/yff/neet-factors-sources.csv'\n",
    "os.makedirs(os.path.dirname(SOURCES_CSV), exist_ok=True)\n",
    "data.melt(ignore_index=False).to_csv(SOURCES_CSV)"
   ]
  },
  {
   "cell_type": "code",
   "execution_count": null,
   "metadata": {},
   "outputs": [],
   "source": []
  }
 ],
 "metadata": {
  "kernelspec": {
   "display_name": "yff-data-pipeline-9Di0ELhI",
   "language": "python",
   "name": "python3"
  },
  "language_info": {
   "codemirror_mode": {
    "name": "ipython",
    "version": 3
   },
   "file_extension": ".py",
   "mimetype": "text/x-python",
   "name": "python",
   "nbconvert_exporter": "python",
   "pygments_lexer": "ipython3",
   "version": "3.10.12"
  },
  "orig_nbformat": 4
 },
 "nbformat": 4,
 "nbformat_minor": 2
}
