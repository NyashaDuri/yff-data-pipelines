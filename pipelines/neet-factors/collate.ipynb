{
 "cells": [
  {
   "cell_type": "code",
   "execution_count": null,
   "metadata": {},
   "outputs": [],
   "source": [
    "import os\n",
    "import pandas as pd\n",
    "import zipfile"
   ]
  },
  {
   "cell_type": "code",
   "execution_count": null,
   "metadata": {},
   "outputs": [],
   "source": [
    "def read_csvs_from_zip(zip_path: str, csv_path: str, *args, **kwargs) -> pd.DataFrame:\n",
    "    with zipfile.ZipFile(zip_path) as zip:\n",
    "        with zip.open(csv_path) as csv:\n",
    "            data = pd.read_csv(csv, *args, **kwargs)\n",
    "    return data"
   ]
  },
  {
   "cell_type": "markdown",
   "metadata": {},
   "source": [
    "Load `children_in_poverty` data"
   ]
  },
  {
   "cell_type": "code",
   "execution_count": null,
   "metadata": {},
   "outputs": [],
   "source": [
    "children_in_poverty = pd.read_excel(\n",
    "    '../../data/raw/neet-factors/children-in-low-income-families-local-area-statistics-2014-to-2022.ods',\n",
    "    sheet_name='4_Absolute_Local_Authority',\n",
    "    skiprows=9,\n",
    "    usecols=[1, 17],\n",
    "    names=['geography_code', 'Children in poverty'],\n",
    "    index_col=0\n",
    ").iloc[:, 0].mul(100).round(1)"
   ]
  },
  {
   "cell_type": "markdown",
   "metadata": {},
   "source": [
    "Load `children_looked_after` data"
   ]
  },
  {
   "cell_type": "code",
   "execution_count": null,
   "metadata": {},
   "outputs": [],
   "source": [
    "children_looked_after = read_csvs_from_zip(\n",
    "          '../../data/raw/neet-factors/cla-all.zip',\n",
    "          'data/cla_number_and_rate_per_10k_children.csv',\n",
    "          usecols=[\n",
    "            'time_period',\n",
    "            'geographic_level',\n",
    "            'population_count',\n",
    "            'new_la_code',\n",
    "            'rate_per_10000'\n",
    "          ],\n",
    "          index_col='new_la_code'\n",
    "        )\n",
    "\n",
    "children_looked_after = children_looked_after.loc[\n",
    "  (children_looked_after.geographic_level == 'Local authority') &\n",
    "  (children_looked_after.population_count == 'Children looked after at 31 March each year') &\n",
    "  (children_looked_after.time_period == 2022),\n",
    "  [\"rate_per_10000\"]\n",
    "].rename(columns={\n",
    "  'rate_per_10000': 'Children looked after'\n",
    "})"
   ]
  },
  {
   "cell_type": "markdown",
   "metadata": {},
   "source": [
    "Load `health_disability` data"
   ]
  },
  {
   "cell_type": "code",
   "execution_count": null,
   "metadata": {},
   "outputs": [],
   "source": [
    "health_disability_2021 = pd.read_csv('../../data/raw/neet-factors/health_disability_2021.csv', index_col='Lower tier local authorities Code')\n",
    "\n",
    "sum = health_disability_2021.loc[\n",
    "  (health_disability_2021['Disability (3 categories)'] == 'Disabled under the Equality Act') &\n",
    "  (health_disability_2021['Age (C) (4 categories)'].isin(['Aged 15 years and under', 'Aged 16 to 24 years' ])),\n",
    "  \"Observation\"\n",
    "].groupby('Lower tier local authorities Code').sum()\n",
    "\n",
    "total = health_disability_2021.loc[\n",
    "  (health_disability_2021['Age (C) (4 categories)'].isin(['Aged 15 years and under', 'Aged 16 to 24 years' ])),\n",
    "  \"Observation\"\n",
    "].groupby('Lower tier local authorities Code').sum()\n",
    "\n",
    "health_disability_2021 = (sum/total).mul(100).to_frame('Disability (age < 25)')"
   ]
  },
  {
   "cell_type": "markdown",
   "metadata": {},
   "source": [
    "Load `family_disability_2021` data"
   ]
  },
  {
   "cell_type": "code",
   "execution_count": 109,
   "metadata": {},
   "outputs": [],
   "source": [
    "family_disability_2021 = pd.read_csv(\n",
    "  filepath_or_buffer='../../data/raw/neet-factors/family_disability_2021.csv',\n",
    "  index_col='Lower tier local authorities Code'\n",
    ")\n",
    "\n",
    "sum = family_disability_2021.loc[\n",
    "  family_disability_2021['Disability - Equality act disabled (4 categories) Code'].isin([1]),\n",
    "  \"Observation\"\n",
    "].groupby('Lower tier local authorities Code').sum()\n",
    "\n",
    "total = family_disability_2021.loc[\n",
    "  :,\n",
    "  \"Observation\"\n",
    "].groupby('Lower tier local authorities Code').sum()\n",
    "\n",
    "family_disability_2021 = (sum/total).mul(100).to_frame('Disability (all)')"
   ]
  },
  {
   "cell_type": "markdown",
   "metadata": {},
   "source": [
    "Load `economic_inactivity` data.\n",
    "\n",
    "This is not the same value as in the spreadsheet. Need to double check logic."
   ]
  },
  {
   "cell_type": "code",
   "execution_count": 113,
   "metadata": {},
   "outputs": [],
   "source": [
    "economic_inactivity = pd.read_csv(\n",
    "  '../../data/raw/neet-factors/economic_inactivity_status.csv',\n",
    "  index_col='Lower tier local authorities Code'\n",
    ")\n",
    "\n",
    "in_age_range = economic_inactivity['Age (C) (4 categories)'] == 'Aged 16 to 24 years'\n",
    "is_economically_inactive = economic_inactivity['Economic activity status (7 categories)'] == 'Economically inactive (excluding full-time students)'\n",
    "\n",
    "val = economic_inactivity.loc[in_age_range & is_economically_inactive, 'Observation'].groupby('Lower tier local authorities Code').sum()\n",
    "total = economic_inactivity.loc[in_age_range, 'Observation'].groupby('Lower tier local authorities Code').sum()\n",
    "\n",
    "economic_inactivity = ( val / total ).mul(100).to_frame('Economic inactivity (NEET)')"
   ]
  },
  {
   "cell_type": "markdown",
   "metadata": {},
   "source": [
    "Create base data frame"
   ]
  },
  {
   "cell_type": "code",
   "execution_count": 114,
   "metadata": {},
   "outputs": [],
   "source": [
    "local_authorities = pd.read_csv('../../data/reference/local_authorities.csv', index_col=[0])"
   ]
  },
  {
   "cell_type": "markdown",
   "metadata": {},
   "source": [
    "Collate all layers into a single file"
   ]
  },
  {
   "cell_type": "code",
   "execution_count": 115,
   "metadata": {},
   "outputs": [],
   "source": [
    "data = (\n",
    "  local_authorities\n",
    "    .join(children_in_poverty)\n",
    "    .join(children_looked_after)\n",
    "    .join(health_disability_2021)\n",
    "    .join(family_disability_2021)\n",
    "    # .join(economic_inactivity)\n",
    "    .set_index(['Local Authority Name', 'Group'], append=True)\n",
    "  )"
   ]
  },
  {
   "cell_type": "markdown",
   "metadata": {},
   "source": [
    "Save to a CSV file"
   ]
  },
  {
   "cell_type": "code",
   "execution_count": null,
   "metadata": {},
   "outputs": [],
   "source": [
    "SOURCES_CSV='../../data/processed/yff/neet-factors-sources.csv'\n",
    "os.makedirs(os.path.dirname(SOURCES_CSV), exist_ok=True)\n",
    "data.melt(ignore_index=False).to_csv(SOURCES_CSV)"
   ]
  },
  {
   "cell_type": "code",
   "execution_count": null,
   "metadata": {},
   "outputs": [],
   "source": [
    "data"
   ]
  },
  {
   "cell_type": "code",
   "execution_count": null,
   "metadata": {},
   "outputs": [],
   "source": [
    "children_looked_after\n"
   ]
  },
  {
   "cell_type": "code",
   "execution_count": null,
   "metadata": {},
   "outputs": [],
   "source": [
    "data.columns"
   ]
  },
  {
   "cell_type": "code",
   "execution_count": null,
   "metadata": {},
   "outputs": [],
   "source": []
  }
 ],
 "metadata": {
  "kernelspec": {
   "display_name": "yff-data-pipeline-9Di0ELhI",
   "language": "python",
   "name": "python3"
  },
  "language_info": {
   "codemirror_mode": {
    "name": "ipython",
    "version": 3
   },
   "file_extension": ".py",
   "mimetype": "text/x-python",
   "name": "python",
   "nbconvert_exporter": "python",
   "pygments_lexer": "ipython3",
   "version": "3.10.12"
  },
  "orig_nbformat": 4
 },
 "nbformat": 4,
 "nbformat_minor": 2
}
