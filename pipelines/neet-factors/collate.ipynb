{
 "cells": [
  {
   "cell_type": "code",
   "execution_count": 608,
   "metadata": {},
   "outputs": [],
   "source": [
    "import os\n",
    "import pandas as pd\n",
    "import zipfile"
   ]
  },
  {
   "cell_type": "code",
   "execution_count": 609,
   "metadata": {},
   "outputs": [],
   "source": [
    "def read_csvs_from_zip(zip_path: str, csv_path: str, *args, **kwargs) -> pd.DataFrame:\n",
    "    with zipfile.ZipFile(zip_path) as zip:\n",
    "        with zip.open(csv_path) as csv:\n",
    "            data = pd.read_csv(csv, *args, **kwargs)\n",
    "    return data"
   ]
  },
  {
   "cell_type": "markdown",
   "metadata": {},
   "source": [
    "Load `children_in_poverty` data"
   ]
  },
  {
   "cell_type": "code",
   "execution_count": 610,
   "metadata": {},
   "outputs": [],
   "source": [
    "children_in_poverty = pd.read_excel(\n",
    "    '../../data/raw/neet-factors/children-in-low-income-families-local-area-statistics-2014-to-2022.ods',\n",
    "    sheet_name='4_Absolute_Local_Authority',\n",
    "    skiprows=9,\n",
    "    usecols=[1, 17],\n",
    "    names=['geography_code', 'Children in poverty'],\n",
    "    index_col=0\n",
    ").iloc[:, 0].mul(100).round(1)"
   ]
  },
  {
   "cell_type": "markdown",
   "metadata": {},
   "source": [
    "Load `children_looked_after` data"
   ]
  },
  {
   "cell_type": "code",
   "execution_count": null,
   "metadata": {},
   "outputs": [],
   "source": [
    "children_looked_after = read_csvs_from_zip(\n",
    "          '../../data/raw/neet-factors/cla-all.zip',\n",
    "          'data/cla_number_and_rate_per_10k_children.csv',\n",
    "          usecols=[\n",
    "            'time_period',\n",
    "            'geographic_level',\n",
    "            'population_count',\n",
    "            'new_la_code',\n",
    "            'rate_per_10000'\n",
    "          ],\n",
    "          index_col='new_la_code'\n",
    "        )\n",
    "\n",
    "children_looked_after = children_looked_after.loc[\n",
    "  (children_looked_after.geographic_level == 'Local authority') &\n",
    "  (children_looked_after.population_count == 'Children looked after at 31 March each year') &\n",
    "  (children_looked_after.time_period == 2022),\n",
    "  [\"rate_per_10000\"]\n",
    "].rename(columns={\n",
    "  'rate_per_10000': 'Children looked after'\n",
    "})"
   ]
  },
  {
   "cell_type": "markdown",
   "metadata": {},
   "source": [
    "Load `health_disability` data"
   ]
  },
  {
   "cell_type": "code",
   "execution_count": null,
   "metadata": {},
   "outputs": [],
   "source": [
    "health_disability_2021 = pd.read_csv('../../data/raw/neet-factors/health_disability_2021.csv', index_col='Lower tier local authorities Code')\n",
    "\n",
    "sum = health_disability_2021.loc[\n",
    "  (health_disability_2021['Disability (3 categories)'] == 'Disabled under the Equality Act') &\n",
    "  (health_disability_2021['Age (C) (4 categories)'].isin(['Aged 15 years and under', 'Aged 16 to 24 years' ])),\n",
    "  \"Observation\"\n",
    "].groupby('Lower tier local authorities Code').sum()\n",
    "\n",
    "total = health_disability_2021.loc[\n",
    "  (health_disability_2021['Age (C) (4 categories)'].isin(['Aged 15 years and under', 'Aged 16 to 24 years' ])),\n",
    "  \"Observation\"\n",
    "].groupby('Lower tier local authorities Code').sum()\n",
    "\n",
    "health_disability_2021 = (sum/total).mul(100).to_frame('Disability (age < 25)')"
   ]
  },
  {
   "cell_type": "markdown",
   "metadata": {},
   "source": [
    "Load `family_disability_2021` data"
   ]
  },
  {
   "cell_type": "code",
   "execution_count": null,
   "metadata": {},
   "outputs": [],
   "source": [
    "family_disability_2021 = pd.read_csv(\n",
    "  filepath_or_buffer='../../data/raw/neet-factors/family_disability_2021.csv',\n",
    "  index_col='Lower tier local authorities Code'\n",
    ")\n",
    "\n",
    "sum = family_disability_2021.loc[\n",
    "  family_disability_2021['Disability - Equality act disabled (4 categories) Code'].isin([1]),\n",
    "  \"Observation\"\n",
    "].groupby('Lower tier local authorities Code').sum()\n",
    "\n",
    "total = family_disability_2021.loc[\n",
    "  :,\n",
    "  \"Observation\"\n",
    "].groupby('Lower tier local authorities Code').sum()\n",
    "\n",
    "family_disability_2021 = (sum/total).mul(100).to_frame('Disability (all)')"
   ]
  },
  {
   "cell_type": "markdown",
   "metadata": {},
   "source": [
    "Load `economic_inactivity` data.\n",
    "\n",
    "This is not the same value as in the spreadsheet. Need to double check logic."
   ]
  },
  {
   "cell_type": "code",
   "execution_count": null,
   "metadata": {},
   "outputs": [],
   "source": [
    "economic_inactivity = pd.read_csv(\n",
    "  '../../data/raw/neet-factors/economic_inactivity_status.csv',\n",
    "  index_col='Lower tier local authorities Code'\n",
    ")\n",
    "\n",
    "in_age_range = economic_inactivity['Age (C) (4 categories)'] == 'Aged 16 to 24 years'\n",
    "is_economically_inactive = economic_inactivity['Economic activity status (7 categories)'] == 'Economically inactive (excluding full-time students)'\n",
    "\n",
    "val = economic_inactivity.loc[in_age_range & is_economically_inactive, 'Observation'].groupby('Lower tier local authorities Code').sum()\n",
    "total = economic_inactivity.loc[in_age_range, 'Observation'].groupby('Lower tier local authorities Code').sum()\n",
    "\n",
    "economic_inactivity = ( val / total ).mul(100).to_frame('Economic inactivity (NEET)')"
   ]
  },
  {
   "cell_type": "markdown",
   "metadata": {},
   "source": [
    "Load `fertility` data"
   ]
  },
  {
   "cell_type": "code",
   "execution_count": null,
   "metadata": {},
   "outputs": [],
   "source": [
    "fertility = pd.read_csv(\n",
    "    '../../data/raw/neet-factors/fertility_rates.csv', index_col=[\n",
    "        'GEOGRAPHY_CODE',\n",
    "        'MEASURE_NAME',\n",
    "    ], usecols=[\n",
    "        'GEOGRAPHY_CODE',\n",
    "        'MEASURE_NAME',\n",
    "        'OBS_VALUE',\n",
    "        # 'OBS_STATUS',\n",
    "        # 'OBS_STATUS_NAME',\n",
    "        # 'OBS_CONF',\n",
    "        # 'OBS_CONF_NAME',\n",
    "    ]\n",
    ")\n",
    "\n",
    "fertility = fertility.squeeze().unstack().rename(columns={\n",
    "    'Age specific fertility rate : Aged under 20': 'Fertility rates (age < 20)',\n",
    "    'Age specific fertility rate : Aged 20-24': 'Fertility rates (age 20-24)'\n",
    "})"
   ]
  },
  {
   "cell_type": "markdown",
   "metadata": {},
   "source": [
    "Create `imd` data - crime and health"
   ]
  },
  {
   "cell_type": "code",
   "execution_count": null,
   "metadata": {},
   "outputs": [],
   "source": [
    "imd_health = pd.read_excel(\n",
    "  '../../data/raw/neet-factors/File_10_-_IoD2019_Local_Authority_District_Summaries__lower-tier__.xlsx',\n",
    "  sheet_name='Health',\n",
    "  usecols='A,E',\n",
    "  names=['geography_code', 'IMD Health'],\n",
    "  index_col='geography_code',\n",
    ")\n",
    "imd_crime = pd.read_excel(\n",
    "  '../../data/raw/neet-factors/File_10_-_IoD2019_Local_Authority_District_Summaries__lower-tier__.xlsx',\n",
    "  sheet_name='Crime',\n",
    "  usecols='A,E',\n",
    "  names=['geography_code', 'IMD Crime'],\n",
    "  index_col='geography_code',\n",
    ")"
   ]
  },
  {
   "cell_type": "markdown",
   "metadata": {},
   "source": [
    "Load `lone_parent_household` data"
   ]
  },
  {
   "cell_type": "code",
   "execution_count": null,
   "metadata": {},
   "outputs": [],
   "source": [
    "lone_parent_households = pd.read_excel(\n",
    "    '../../data/raw/neet-factors/aps2004to2019finalv2.xlsx',\n",
    "    sheet_name='Lone_parent_households',\n",
    "    usecols=\"A,T\",\n",
    "    skiprows=10,\n",
    "    names=['geography_code', 'lone_parent_households'],\n",
    "    index_col='geography_code',\n",
    "    na_values=['[u]', '[w]'],\n",
    ").join(pd.read_excel(\n",
    "    '../../data/raw/neet-factors/aps2004to2019finalv2.xlsx',\n",
    "    sheet_name='Total_households',\n",
    "    usecols=\"A,T\",\n",
    "    skiprows=10,\n",
    "    names=['geography_code', 'total_households'],\n",
    "    index_col='geography_code',\n",
    "    na_values=['[u]', '[w]'],\n",
    "))\n",
    "\n",
    "lone_parent_households = (lone_parent_households.lone_parent_households / lone_parent_households.total_households).mul(100).to_frame('Lone parent households')"
   ]
  },
  {
   "cell_type": "markdown",
   "metadata": {},
   "source": [
    "Add `pupils_with_sen_support` data"
   ]
  },
  {
   "cell_type": "code",
   "execution_count": null,
   "metadata": {},
   "outputs": [],
   "source": [
    "def sen_filter(data):\n",
    "    return data.loc[\n",
    "        (data.time_period == 202223)\n",
    "        & (data.geographic_level == 'Local authority')\n",
    "        & (data.hospital_school == 'Total')\n",
    "        & (data.type_of_establishment == 'Total')\n",
    "        & (data.phase_type_grouping == 'Total')\n",
    "        ,\n",
    "        [\n",
    "          'sen_support_percent'\n",
    "        ]\n",
    "    ]\n",
    "pupils_with_sen_support = read_csvs_from_zip(\n",
    "  '../../data/raw/neet-factors/special-educational-needs-in-england_2022-23.zip',\n",
    "  csv_path='data/sen_phase_type_.csv',\n",
    "  index_col=[\n",
    "      'new_la_code',\n",
    "  ],\n",
    "  na_values=['z']\n",
    ").pipe(sen_filter).rename(columns={'sen_support_percent': 'Pupils with SEN support'}).sort_index()"
   ]
  },
  {
   "cell_type": "markdown",
   "metadata": {},
   "source": [
    "Load `qualifications` data"
   ]
  },
  {
   "cell_type": "code",
   "execution_count": null,
   "metadata": {},
   "outputs": [],
   "source": [
    "def filter_qualifications_16_24(d: pd.DataFrame) -> pd.DataFrame:\n",
    "    return d.loc[\n",
    "      (d['Age (C) (4 categories)'] == 'Aged 16 to 24 years'),\n",
    "      [\n",
    "        'Highest level of qualification (7 categories) Code',\n",
    "        'Observation'\n",
    "      ]\n",
    "    ]\n",
    "\n",
    "def filter_qualifications_25_plus(d: pd.DataFrame) -> pd.DataFrame:\n",
    "    return d.loc[\n",
    "      (d['Age (C) (4 categories)'].isin(['Aged 25 to 49 years', 'Aged 50 years and over'])),\n",
    "      [\n",
    "        'Highest level of qualification (7 categories) Code',\n",
    "        'Observation'\n",
    "      ]\n",
    "    ]\n",
    "\n",
    "def calc_pct_below_level_2(d):\n",
    "    return (\n",
    "      d.loc[\n",
    "        d['Highest level of qualification (7 categories) Code'].between(0, 1, inclusive='both')\n",
    "      ].groupby('Lower tier local authorities Code').Observation.sum()\n",
    "      /\n",
    "      d.groupby('Lower tier local authorities Code').Observation.sum()\n",
    "    ).mul(100)\n",
    "\n",
    "qualifications_16_24 = pd.read_csv(\n",
    "  '../../data/raw/neet-factors/qualifications_below_level_2.csv',\n",
    "  index_col=[\n",
    "    'Lower tier local authorities Code',\n",
    "  ]\n",
    ").pipe(filter_qualifications_16_24).pipe(calc_pct_below_level_2).to_frame('Qualification below level 2 (age 16-24)')\n",
    "\n",
    "qualifications_all = pd.read_csv(\n",
    "  '../../data/raw/neet-factors/qualifications_below_level_2.csv',\n",
    "  index_col=[\n",
    "    'Lower tier local authorities Code',\n",
    "  ]\n",
    ").pipe(filter_qualifications_25_plus).pipe(calc_pct_below_level_2).to_frame('Qualification below level 2 (all)')"
   ]
  },
  {
   "cell_type": "markdown",
   "metadata": {},
   "source": [
    "Add school absences data"
   ]
  },
  {
   "cell_type": "code",
   "execution_count": null,
   "metadata": {},
   "outputs": [],
   "source": [
    "school_absences = read_csvs_from_zip(\n",
    "  '../../data/raw/neet-factors/school_absence_by_geographic_area.zip',\n",
    "  csv_path='data/1_absence_3term_nat_reg_la.csv',\n",
    "  index_col='new_la_code',\n",
    ").query('time_period == 202122 & geographic_level == \"Local authority\" & school_type == \"Total\"')\n",
    "\n",
    "school_absences = (school_absences.sess_overall / school_absences.sess_possible).mul(100).sort_index().to_frame('School Absences')"
   ]
  },
  {
   "cell_type": "markdown",
   "metadata": {},
   "source": [
    "Add school suspension or exclusion data"
   ]
  },
  {
   "cell_type": "code",
   "execution_count": null,
   "metadata": {},
   "outputs": [],
   "source": [
    "school_data = (\n",
    "    read_csvs_from_zip(\n",
    "        '../../data/raw/neet-factors/permanent-and-fixed-period-exclusions-in-england_2022-23-autumn-term.zip',\n",
    "        csv_path='data/exc_school_20230808.csv',\n",
    "        index_col='new_la_code',\n",
    "        usecols=[\n",
    "          'new_la_code',\n",
    "          'time_period',\n",
    "          'headcount',\n",
    "          'perm_excl',\n",
    "          'suspension',\n",
    "        ]\n",
    "    )\n",
    "    .query(\n",
    "        'time_period == 202122'\n",
    "    )\n",
    "    .loc[\n",
    "        :, ['headcount', 'perm_excl', 'suspension']\n",
    "    ]\n",
    "    .groupby('new_la_code')\n",
    "    .sum()\n",
    "    .sort_index()\n",
    ")\n",
    "\n",
    "school_data = pd.concat(\n",
    "  [\n",
    "    (school_data.perm_excl / school_data.headcount).mul(100),\n",
    "    (school_data.suspension / school_data.headcount).mul(100)\n",
    "  ],\n",
    "  axis=1\n",
    ").rename(columns={\n",
    "    0: 'School Exclusions',\n",
    "    1: 'School Suspensions'\n",
    "  },\n",
    ")"
   ]
  },
  {
   "cell_type": "markdown",
   "metadata": {},
   "source": [
    "Add social renting data"
   ]
  },
  {
   "cell_type": "code",
   "execution_count": null,
   "metadata": {},
   "outputs": [],
   "source": []
  },
  {
   "cell_type": "markdown",
   "metadata": {},
   "source": [
    "Add caring responsibility data"
   ]
  },
  {
   "cell_type": "code",
   "execution_count": null,
   "metadata": {},
   "outputs": [],
   "source": []
  },
  {
   "cell_type": "markdown",
   "metadata": {},
   "source": [
    "Create base data frame"
   ]
  },
  {
   "cell_type": "code",
   "execution_count": null,
   "metadata": {},
   "outputs": [],
   "source": [
    "local_authorities = pd.read_csv('../../data/reference/local_authorities.csv', index_col=[0])"
   ]
  },
  {
   "cell_type": "markdown",
   "metadata": {},
   "source": [
    "Collate all layers into a single file"
   ]
  },
  {
   "cell_type": "code",
   "execution_count": null,
   "metadata": {},
   "outputs": [],
   "source": [
    "data = (\n",
    "  local_authorities\n",
    "    .join(children_in_poverty)\n",
    "    .join(children_looked_after)\n",
    "    .join(health_disability_2021)\n",
    "    .join(family_disability_2021)\n",
    "    .join(economic_inactivity)\n",
    "    .join(fertility)\n",
    "    .join(imd_health)\n",
    "    .join(imd_crime)\n",
    "    .join(lone_parent_households)\n",
    "    .join(pupils_with_sen_support)\n",
    "    .join(qualifications_16_24)\n",
    "    .join(qualifications_all)\n",
    "    .join(school_absences)\n",
    "    .join(school_data)\n",
    "    .set_index(['Local Authority Name', 'Group'], append=True)\n",
    "  )"
   ]
  },
  {
   "cell_type": "markdown",
   "metadata": {},
   "source": [
    "Save to a CSV file"
   ]
  },
  {
   "cell_type": "code",
   "execution_count": null,
   "metadata": {},
   "outputs": [],
   "source": [
    "SOURCES_CSV='../../data/processed/yff/neet-factors-sources.csv'\n",
    "os.makedirs(os.path.dirname(SOURCES_CSV), exist_ok=True)\n",
    "data.melt(ignore_index=False).to_csv(SOURCES_CSV)"
   ]
  }
 ],
 "metadata": {
  "kernelspec": {
   "display_name": "yff-data-pipeline-9Di0ELhI",
   "language": "python",
   "name": "python3"
  },
  "language_info": {
   "codemirror_mode": {
    "name": "ipython",
    "version": 3
   },
   "file_extension": ".py",
   "mimetype": "text/x-python",
   "name": "python",
   "nbconvert_exporter": "python",
   "pygments_lexer": "ipython3",
   "version": "3.10.12"
  },
  "orig_nbformat": 4
 },
 "nbformat": 4,
 "nbformat_minor": 2
}
