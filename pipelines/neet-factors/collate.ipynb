{
 "cells": [
  {
   "cell_type": "code",
   "execution_count": 1,
   "metadata": {},
   "outputs": [],
   "source": [
    "import os\n",
    "import pandas as pd\n",
    "import zipfile"
   ]
  },
  {
   "cell_type": "code",
   "execution_count": 2,
   "metadata": {},
   "outputs": [],
   "source": [
    "def read_csvs_from_zip(zip_path: str, csv_path: str, *args, **kwargs) -> pd.DataFrame:\n",
    "    with zipfile.ZipFile(zip_path) as zip:\n",
    "        with zip.open(csv_path) as csv:\n",
    "            data = pd.read_csv(csv, *args, **kwargs)\n",
    "    return data"
   ]
  },
  {
   "cell_type": "markdown",
   "metadata": {},
   "source": [
    "Load `children_in_poverty` data"
   ]
  },
  {
   "cell_type": "code",
   "execution_count": 3,
   "metadata": {},
   "outputs": [],
   "source": [
    "children_in_poverty = pd.read_excel(\n",
    "    '../../data/raw/neet-factors/children-in-low-income-families-local-area-statistics-2014-to-2022.ods',\n",
    "    sheet_name='4_Absolute_Local_Authority',\n",
    "    skiprows=9,\n",
    "    usecols=[1, 17],\n",
    "    names=['geography_code', 'Children in poverty'],\n",
    "    index_col=0\n",
    ").iloc[:, 0].mul(100).round(1)"
   ]
  },
  {
   "cell_type": "markdown",
   "metadata": {},
   "source": [
    "Load `children_looked_after` data"
   ]
  },
  {
   "cell_type": "code",
   "execution_count": 4,
   "metadata": {},
   "outputs": [],
   "source": [
    "children_looked_after = read_csvs_from_zip(\n",
    "          '../../data/raw/neet-factors/cla-all.zip',\n",
    "          'data/cla_number_and_rate_per_10k_children.csv',\n",
    "          usecols=[\n",
    "            'time_period',\n",
    "            'geographic_level',\n",
    "            'population_count',\n",
    "            'new_la_code',\n",
    "            'rate_per_10000'\n",
    "          ],\n",
    "          index_col='new_la_code'\n",
    "        )\n",
    "\n",
    "children_looked_after = children_looked_after.loc[\n",
    "  (children_looked_after.geographic_level == 'Local authority') &\n",
    "  (children_looked_after.population_count == 'Children looked after at 31 March each year') &\n",
    "  (children_looked_after.time_period == 2022),\n",
    "  [\"rate_per_10000\"]\n",
    "].rename(columns={\n",
    "  'rate_per_10000': 'Children looked after'\n",
    "})"
   ]
  },
  {
   "cell_type": "markdown",
   "metadata": {},
   "source": [
    "Load `health_disability` data"
   ]
  },
  {
   "cell_type": "code",
   "execution_count": 12,
   "metadata": {},
   "outputs": [],
   "source": [
    "health_disability_2021 = pd.read_csv('../../data/raw/neet-factors/health_disability_2021.csv', index_col='Lower tier local authorities Code')\n",
    "\n",
    "sum = health_disability_2021.loc[\n",
    "  (health_disability_2021['Disability (3 categories)'] == 'Disabled under the Equality Act') &\n",
    "  (health_disability_2021['Age (C) (4 categories)'].isin(['Aged 15 years and under', 'Aged 16 to 24 years' ])),\n",
    "  \"Observation\"\n",
    "].groupby('Lower tier local authorities Code').sum()\n",
    "\n",
    "total = health_disability_2021.loc[\n",
    "  (health_disability_2021['Age (C) (4 categories)'].isin(['Aged 15 years and under', 'Aged 16 to 24 years' ])),\n",
    "  \"Observation\"\n",
    "].groupby('Lower tier local authorities Code').sum()\n",
    "\n",
    "health_disability_2021 = (sum/total).mul(100).to_frame('Disability (age < 25)')"
   ]
  },
  {
   "cell_type": "code",
   "execution_count": 52,
   "metadata": {},
   "outputs": [],
   "source": [
    "family_disability_2021 = pd.read_csv(\n",
    "  filepath_or_buffer='../../data/raw/neet-factors/family_disability_2021.csv',\n",
    "  index_col='Lower tier local authorities Code'\n",
    ")\n",
    "\n",
    "sum = family_disability_2021.loc[\n",
    "  family_disability_2021['Disability - Equality act disabled (4 categories) Code'].isin([1]),\n",
    "  \"Observation\"\n",
    "].groupby('Lower tier local authorities Code').sum()\n",
    "\n",
    "total = family_disability_2021.loc[\n",
    "  :,\n",
    "  \"Observation\"\n",
    "].groupby('Lower tier local authorities Code').sum()\n",
    "\n",
    "family_disability_2021 = (sum/total).mul(100).to_frame('Disability (age < 25)')"
   ]
  },
  {
   "cell_type": "markdown",
   "metadata": {},
   "source": [
    "Load `family_disability_2021` data"
   ]
  },
  {
   "cell_type": "markdown",
   "metadata": {},
   "source": [
    "Create base data frame"
   ]
  },
  {
   "cell_type": "code",
   "execution_count": 39,
   "metadata": {},
   "outputs": [],
   "source": [
    "local_authorities = pd.read_csv('../../data/reference/local_authorities.csv', index_col=[0])"
   ]
  },
  {
   "cell_type": "markdown",
   "metadata": {},
   "source": [
    "Collate all layers into a single file"
   ]
  },
  {
   "cell_type": "code",
   "execution_count": 40,
   "metadata": {},
   "outputs": [],
   "source": [
    "data = (\n",
    "  local_authorities\n",
    "    .join(children_in_poverty)\n",
    "    .join(children_looked_after)\n",
    "    .join(health_disability_2021)\n",
    "    .join(family_disability_2021)\n",
    "    .set_index(['Local Authority Name', 'Group'], append=True)\n",
    "  )"
   ]
  },
  {
   "cell_type": "markdown",
   "metadata": {},
   "source": [
    "Save to a CSV file"
   ]
  },
  {
   "cell_type": "code",
   "execution_count": 41,
   "metadata": {},
   "outputs": [],
   "source": [
    "SOURCES_CSV='../../data/processed/yff/neet-factors-sources.csv'\n",
    "os.makedirs(os.path.dirname(SOURCES_CSV), exist_ok=True)\n",
    "data.melt(ignore_index=False).to_csv(SOURCES_CSV)"
   ]
  },
  {
   "cell_type": "code",
   "execution_count": 42,
   "metadata": {},
   "outputs": [
    {
     "data": {
      "text/html": [
       "<div>\n",
       "<style scoped>\n",
       "    .dataframe tbody tr th:only-of-type {\n",
       "        vertical-align: middle;\n",
       "    }\n",
       "\n",
       "    .dataframe tbody tr th {\n",
       "        vertical-align: top;\n",
       "    }\n",
       "\n",
       "    .dataframe thead th {\n",
       "        text-align: right;\n",
       "    }\n",
       "</style>\n",
       "<table border=\"1\" class=\"dataframe\">\n",
       "  <thead>\n",
       "    <tr style=\"text-align: right;\">\n",
       "      <th></th>\n",
       "      <th></th>\n",
       "      <th></th>\n",
       "      <th>Children in poverty</th>\n",
       "      <th>Children looked after</th>\n",
       "      <th>Disability (age &lt; 25)</th>\n",
       "    </tr>\n",
       "    <tr>\n",
       "      <th>Local Authority Code</th>\n",
       "      <th>Local Authority Name</th>\n",
       "      <th>Group</th>\n",
       "      <th></th>\n",
       "      <th></th>\n",
       "      <th></th>\n",
       "    </tr>\n",
       "  </thead>\n",
       "  <tbody>\n",
       "    <tr>\n",
       "      <th>E06000001</th>\n",
       "      <th>Hartlepool</th>\n",
       "      <th>Services, Manufacturing and Mining Legacy</th>\n",
       "      <td>21.7</td>\n",
       "      <td>155</td>\n",
       "      <td>10.124733</td>\n",
       "    </tr>\n",
       "    <tr>\n",
       "      <th>E06000002</th>\n",
       "      <th>Middlesbrough</th>\n",
       "      <th>Manufacturing Traits</th>\n",
       "      <td>31.8</td>\n",
       "      <td>150</td>\n",
       "      <td>8.978449</td>\n",
       "    </tr>\n",
       "    <tr>\n",
       "      <th>E06000003</th>\n",
       "      <th>Redcar and Cleveland</th>\n",
       "      <th>Services, Manufacturing and Mining Legacy</th>\n",
       "      <td>22.0</td>\n",
       "      <td>125</td>\n",
       "      <td>10.040150</td>\n",
       "    </tr>\n",
       "    <tr>\n",
       "      <th>E06000004</th>\n",
       "      <th>Stockton-on-Tees</th>\n",
       "      <th>Services, Manufacturing and Mining Legacy</th>\n",
       "      <td>19.0</td>\n",
       "      <td>133</td>\n",
       "      <td>9.688022</td>\n",
       "    </tr>\n",
       "    <tr>\n",
       "      <th>E06000005</th>\n",
       "      <th>Darlington</th>\n",
       "      <th>Services, Manufacturing and Mining Legacy</th>\n",
       "      <td>20.5</td>\n",
       "      <td>123</td>\n",
       "      <td>9.393366</td>\n",
       "    </tr>\n",
       "    <tr>\n",
       "      <th>...</th>\n",
       "      <th>...</th>\n",
       "      <th>...</th>\n",
       "      <td>...</td>\n",
       "      <td>...</td>\n",
       "      <td>...</td>\n",
       "    </tr>\n",
       "    <tr>\n",
       "      <th>E09000029</th>\n",
       "      <th>Sutton</th>\n",
       "      <th>Suburban Traits</th>\n",
       "      <td>8.3</td>\n",
       "      <td>48</td>\n",
       "      <td>7.783485</td>\n",
       "    </tr>\n",
       "    <tr>\n",
       "      <th>E09000030</th>\n",
       "      <th>Tower Hamlets</th>\n",
       "      <th>London Cosmopolitan</th>\n",
       "      <td>21.8</td>\n",
       "      <td>52</td>\n",
       "      <td>6.975956</td>\n",
       "    </tr>\n",
       "    <tr>\n",
       "      <th>E09000031</th>\n",
       "      <th>Waltham Forest</th>\n",
       "      <th>Ethnically Diverse Metropolitan  Living</th>\n",
       "      <td>16.8</td>\n",
       "      <td>53</td>\n",
       "      <td>5.819617</td>\n",
       "    </tr>\n",
       "    <tr>\n",
       "      <th>E09000032</th>\n",
       "      <th>Wandsworth</th>\n",
       "      <th>London Cosmopolitan</th>\n",
       "      <td>9.4</td>\n",
       "      <td>41</td>\n",
       "      <td>6.468367</td>\n",
       "    </tr>\n",
       "    <tr>\n",
       "      <th>E09000033</th>\n",
       "      <th>Westminster</th>\n",
       "      <th>NaN</th>\n",
       "      <td>11.6</td>\n",
       "      <td>56</td>\n",
       "      <td>6.480722</td>\n",
       "    </tr>\n",
       "  </tbody>\n",
       "</table>\n",
       "<p>309 rows × 3 columns</p>\n",
       "</div>"
      ],
      "text/plain": [
       "                                                                                     Children in poverty  \\\n",
       "Local Authority Code Local Authority Name Group                                                            \n",
       "E06000001            Hartlepool           Services, Manufacturing and Mining Legacy                 21.7   \n",
       "E06000002            Middlesbrough        Manufacturing Traits                                      31.8   \n",
       "E06000003            Redcar and Cleveland Services, Manufacturing and Mining Legacy                 22.0   \n",
       "E06000004            Stockton-on-Tees     Services, Manufacturing and Mining Legacy                 19.0   \n",
       "E06000005            Darlington           Services, Manufacturing and Mining Legacy                 20.5   \n",
       "...                                                                                                  ...   \n",
       "E09000029            Sutton               Suburban Traits                                            8.3   \n",
       "E09000030            Tower Hamlets        London Cosmopolitan                                       21.8   \n",
       "E09000031            Waltham Forest       Ethnically Diverse Metropolitan  Living                   16.8   \n",
       "E09000032            Wandsworth           London Cosmopolitan                                        9.4   \n",
       "E09000033            Westminster          NaN                                                       11.6   \n",
       "\n",
       "                                                                                    Children looked after  \\\n",
       "Local Authority Code Local Authority Name Group                                                             \n",
       "E06000001            Hartlepool           Services, Manufacturing and Mining Legacy                   155   \n",
       "E06000002            Middlesbrough        Manufacturing Traits                                        150   \n",
       "E06000003            Redcar and Cleveland Services, Manufacturing and Mining Legacy                   125   \n",
       "E06000004            Stockton-on-Tees     Services, Manufacturing and Mining Legacy                   133   \n",
       "E06000005            Darlington           Services, Manufacturing and Mining Legacy                   123   \n",
       "...                                                                                                   ...   \n",
       "E09000029            Sutton               Suburban Traits                                              48   \n",
       "E09000030            Tower Hamlets        London Cosmopolitan                                          52   \n",
       "E09000031            Waltham Forest       Ethnically Diverse Metropolitan  Living                      53   \n",
       "E09000032            Wandsworth           London Cosmopolitan                                          41   \n",
       "E09000033            Westminster          NaN                                                          56   \n",
       "\n",
       "                                                                                     Disability (age < 25)  \n",
       "Local Authority Code Local Authority Name Group                                                             \n",
       "E06000001            Hartlepool           Services, Manufacturing and Mining Legacy              10.124733  \n",
       "E06000002            Middlesbrough        Manufacturing Traits                                    8.978449  \n",
       "E06000003            Redcar and Cleveland Services, Manufacturing and Mining Legacy              10.040150  \n",
       "E06000004            Stockton-on-Tees     Services, Manufacturing and Mining Legacy               9.688022  \n",
       "E06000005            Darlington           Services, Manufacturing and Mining Legacy               9.393366  \n",
       "...                                                                                                    ...  \n",
       "E09000029            Sutton               Suburban Traits                                         7.783485  \n",
       "E09000030            Tower Hamlets        London Cosmopolitan                                     6.975956  \n",
       "E09000031            Waltham Forest       Ethnically Diverse Metropolitan  Living                 5.819617  \n",
       "E09000032            Wandsworth           London Cosmopolitan                                     6.468367  \n",
       "E09000033            Westminster          NaN                                                     6.480722  \n",
       "\n",
       "[309 rows x 3 columns]"
      ]
     },
     "execution_count": 42,
     "metadata": {},
     "output_type": "execute_result"
    }
   ],
   "source": [
    "data"
   ]
  },
  {
   "cell_type": "code",
   "execution_count": 43,
   "metadata": {},
   "outputs": [
    {
     "data": {
      "text/html": [
       "<div>\n",
       "<style scoped>\n",
       "    .dataframe tbody tr th:only-of-type {\n",
       "        vertical-align: middle;\n",
       "    }\n",
       "\n",
       "    .dataframe tbody tr th {\n",
       "        vertical-align: top;\n",
       "    }\n",
       "\n",
       "    .dataframe thead th {\n",
       "        text-align: right;\n",
       "    }\n",
       "</style>\n",
       "<table border=\"1\" class=\"dataframe\">\n",
       "  <thead>\n",
       "    <tr style=\"text-align: right;\">\n",
       "      <th></th>\n",
       "      <th>Children looked after</th>\n",
       "    </tr>\n",
       "    <tr>\n",
       "      <th>new_la_code</th>\n",
       "      <th></th>\n",
       "    </tr>\n",
       "  </thead>\n",
       "  <tbody>\n",
       "    <tr>\n",
       "      <th>E06000001</th>\n",
       "      <td>155</td>\n",
       "    </tr>\n",
       "    <tr>\n",
       "      <th>E06000002</th>\n",
       "      <td>150</td>\n",
       "    </tr>\n",
       "    <tr>\n",
       "      <th>E06000003</th>\n",
       "      <td>125</td>\n",
       "    </tr>\n",
       "    <tr>\n",
       "      <th>E06000004</th>\n",
       "      <td>133</td>\n",
       "    </tr>\n",
       "    <tr>\n",
       "      <th>E06000005</th>\n",
       "      <td>123</td>\n",
       "    </tr>\n",
       "    <tr>\n",
       "      <th>...</th>\n",
       "      <td>...</td>\n",
       "    </tr>\n",
       "    <tr>\n",
       "      <th>E09000024</th>\n",
       "      <td>26</td>\n",
       "    </tr>\n",
       "    <tr>\n",
       "      <th>E09000026</th>\n",
       "      <td>37</td>\n",
       "    </tr>\n",
       "    <tr>\n",
       "      <th>E09000027</th>\n",
       "      <td>29</td>\n",
       "    </tr>\n",
       "    <tr>\n",
       "      <th>E09000029</th>\n",
       "      <td>48</td>\n",
       "    </tr>\n",
       "    <tr>\n",
       "      <th>E09000031</th>\n",
       "      <td>53</td>\n",
       "    </tr>\n",
       "  </tbody>\n",
       "</table>\n",
       "<p>156 rows × 1 columns</p>\n",
       "</div>"
      ],
      "text/plain": [
       "            Children looked after\n",
       "new_la_code                      \n",
       "E06000001                     155\n",
       "E06000002                     150\n",
       "E06000003                     125\n",
       "E06000004                     133\n",
       "E06000005                     123\n",
       "...                           ...\n",
       "E09000024                      26\n",
       "E09000026                      37\n",
       "E09000027                      29\n",
       "E09000029                      48\n",
       "E09000031                      53\n",
       "\n",
       "[156 rows x 1 columns]"
      ]
     },
     "execution_count": 43,
     "metadata": {},
     "output_type": "execute_result"
    }
   ],
   "source": [
    "children_looked_after\n"
   ]
  },
  {
   "cell_type": "code",
   "execution_count": 44,
   "metadata": {},
   "outputs": [
    {
     "data": {
      "text/plain": [
       "Index(['Children in poverty', 'Children looked after',\n",
       "       'Disability (age < 25)'],\n",
       "      dtype='object')"
      ]
     },
     "execution_count": 44,
     "metadata": {},
     "output_type": "execute_result"
    }
   ],
   "source": [
    "data.columns"
   ]
  },
  {
   "cell_type": "code",
   "execution_count": null,
   "metadata": {},
   "outputs": [],
   "source": []
  }
 ],
 "metadata": {
  "kernelspec": {
   "display_name": "yff-data-pipeline-9Di0ELhI",
   "language": "python",
   "name": "python3"
  },
  "language_info": {
   "codemirror_mode": {
    "name": "ipython",
    "version": 3
   },
   "file_extension": ".py",
   "mimetype": "text/x-python",
   "name": "python",
   "nbconvert_exporter": "python",
   "pygments_lexer": "ipython3",
   "version": "3.10.12"
  },
  "orig_nbformat": 4
 },
 "nbformat": 4,
 "nbformat_minor": 2
}
