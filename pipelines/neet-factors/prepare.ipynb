{
 "cells": [
  {
   "cell_type": "code",
   "execution_count": 7,
   "metadata": {},
   "outputs": [],
   "source": [
    "import os\n",
    "import pandas as pd"
   ]
  },
  {
   "cell_type": "code",
   "execution_count": 2,
   "metadata": {},
   "outputs": [],
   "source": [
    "raw = pd.read_excel(\n",
    "  '../../data/reference/Copy of NatCen 2023 - Administrative data on factors associated with youth NEET rates - Dataset.xlsx',\n",
    "  sheet_name='Local Authority Data',\n",
    "  \n",
    ").set_index(['Local Authority Code', 'Local Authority Name', 'Group'])\n",
    "\n",
    "raw.columns = raw.columns.str.strip()"
   ]
  },
  {
   "cell_type": "code",
   "execution_count": 3,
   "metadata": {},
   "outputs": [],
   "source": [
    "def z_score(series: pd.Series):\n",
    "    return (series - series.mean()) / series.std()\n",
    "\n",
    "def construct_weights(df, weighting=2):\n",
    "    w = pd.Series(1, index=df.columns)\n",
    "    key_metrics = [\n",
    "      'Qualification below level 2 (age 16-24)',\n",
    "      'Pupils with SEN support',\n",
    "      'Disability (age < 25)',\n",
    "      'IMD Health',\n",
    "      'Economic inactivity (NEET)'\n",
    "    ]\n",
    "    w.loc[w.index.isin(key_metrics)] = weighting\n",
    "    return w\n",
    "\n",
    "def weighted_average(df, column_weights):\n",
    "    res = df.mul(column_weights.to_dict()) / column_weights.sum()\n",
    "    return res.sum(axis=1)\n",
    "\n",
    "def score(df):\n",
    "    total = pd.Series(df.sum(axis=1), name='Total Score')\n",
    "    double_weighted = pd.Series(df.pipe(weighted_average, df.pipe(construct_weights, 2)), name='Weighted scores (double)')\n",
    "    triple_weighted = pd.Series(df.pipe(weighted_average, df.pipe(construct_weights, 3)), name='Weighted scores (triple)')\n",
    "\n",
    "    return pd.concat([\n",
    "        df, total, double_weighted, triple_weighted\n",
    "    ], axis=1)\n",
    "\n",
    "data = raw.apply(z_score).pipe(score)"
   ]
  },
  {
   "cell_type": "code",
   "execution_count": 8,
   "metadata": {},
   "outputs": [],
   "source": [
    "os.makedirs('../../data/processed/yff/', exist_ok=True)\n",
    "data.melt(ignore_index=False).to_csv('../../data/processed/yff/neet-factors.csv')"
   ]
  },
  {
   "cell_type": "code",
   "execution_count": null,
   "metadata": {},
   "outputs": [],
   "source": []
  }
 ],
 "metadata": {
  "kernelspec": {
   "display_name": "yff-data-pipeline-9Di0ELhI",
   "language": "python",
   "name": "python3"
  },
  "language_info": {
   "codemirror_mode": {
    "name": "ipython",
    "version": 3
   },
   "file_extension": ".py",
   "mimetype": "text/x-python",
   "name": "python",
   "nbconvert_exporter": "python",
   "pygments_lexer": "ipython3",
   "version": "3.10.12"
  },
  "orig_nbformat": 4
 },
 "nbformat": 4,
 "nbformat_minor": 2
}
