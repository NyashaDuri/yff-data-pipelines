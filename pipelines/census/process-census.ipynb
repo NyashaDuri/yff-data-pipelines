{
 "cells": [
  {
   "cell_type": "code",
   "execution_count": 6,
   "metadata": {},
   "outputs": [],
   "source": [
    "import os \n",
    "import pandas as pd"
   ]
  },
  {
   "cell_type": "code",
   "execution_count": 7,
   "metadata": {},
   "outputs": [],
   "source": [
    "OUT_PATH = os.path.join('../..', 'data', 'processed', 'census')"
   ]
  },
  {
   "cell_type": "code",
   "execution_count": 8,
   "metadata": {},
   "outputs": [],
   "source": [
    "column_name_mapper = {\n",
    "  'obs_value': 'value',\n",
    "  'c2021_eastat_7_name': 'variable_name',\n",
    "  'c2021_age_7_name': 'age',\n",
    "  'c_sex_name': 'gender',\n",
    "}"
   ]
  },
  {
   "cell_type": "code",
   "execution_count": 43,
   "metadata": {},
   "outputs": [],
   "source": [
    "raw_data = pd.read_csv(\n",
    "    '../../data/raw/census.csv'\n",
    ")\n",
    "raw_data.columns = raw_data.columns.str.lower()\n",
    "raw_data = raw_data.rename(columns=column_name_mapper)\n",
    "raw_data.variable_name = raw_data.variable_name.str.strip()"
   ]
  },
  {
   "cell_type": "code",
   "execution_count": 49,
   "metadata": {},
   "outputs": [],
   "source": [
    "data = (raw_data\n",
    "    .drop(columns=['geography', 'geography_type', 'measures_name'])\n",
    "    .pivot(index=['date', 'geography_code', 'geography_name', 'variable_name', 'gender'], columns='age', values='value')\n",
    ")\n",
    "data.div(data.Total, axis=0).mul(100).round(1).drop(columns='Total').melt(value_name='rate', ignore_index=False).to_csv(os.path.join(OUT_PATH, 'employment-status.csv'))"
   ]
  },
  {
   "cell_type": "code",
   "execution_count": null,
   "metadata": {},
   "outputs": [],
   "source": []
  }
 ],
 "metadata": {
  "kernelspec": {
   "display_name": "yff-data-pipeline-9Di0ELhI",
   "language": "python",
   "name": "python3"
  },
  "language_info": {
   "codemirror_mode": {
    "name": "ipython",
    "version": 3
   },
   "file_extension": ".py",
   "mimetype": "text/x-python",
   "name": "python",
   "nbconvert_exporter": "python",
   "pygments_lexer": "ipython3",
   "version": "3.10.12"
  },
  "orig_nbformat": 4
 },
 "nbformat": 4,
 "nbformat_minor": 2
}
