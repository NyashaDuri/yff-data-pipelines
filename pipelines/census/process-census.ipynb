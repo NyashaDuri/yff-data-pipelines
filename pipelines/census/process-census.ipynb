{
 "cells": [
  {
   "cell_type": "code",
   "execution_count": null,
   "metadata": {},
   "outputs": [],
   "source": [
    "import os\n",
    "import pandas as pd"
   ]
  },
  {
   "cell_type": "code",
   "execution_count": null,
   "metadata": {},
   "outputs": [],
   "source": [
    "OUT_PATH = os.path.join('../..', 'data', 'processed', 'census')"
   ]
  },
  {
   "cell_type": "code",
   "execution_count": null,
   "metadata": {},
   "outputs": [],
   "source": [
    "column_name_mapper = {\n",
    "  'obs_value': 'value',\n",
    "  'c2021_eastat_7_name': 'variable_name',\n",
    "  'c2021_age_7_name': 'age',\n",
    "  'c_sex_name': 'gender',\n",
    "}"
   ]
  },
  {
   "cell_type": "markdown",
   "metadata": {},
   "source": [
    "Load in the raw data"
   ]
  },
  {
   "cell_type": "code",
   "execution_count": null,
   "metadata": {},
   "outputs": [],
   "source": [
    "raw_data = pd.read_csv(\n",
    "    '../../data/raw/census-employment.csv'\n",
    ")\n",
    "raw_data.columns = raw_data.columns.str.lower()\n",
    "raw_data = raw_data.rename(columns=column_name_mapper).drop(columns=['geography', 'geography_type', 'measures_name'])\n",
    "raw_data.variable_name = raw_data.variable_name.str.strip()"
   ]
  },
  {
   "cell_type": "markdown",
   "metadata": {},
   "source": [
    "Add together unemployment and economically inactive figures to come up with a NEET-like figure."
   ]
  },
  {
   "cell_type": "code",
   "execution_count": null,
   "metadata": {},
   "outputs": [],
   "source": [
    "fake_neet = raw_data.loc[raw_data.variable_name.isin([\n",
    "    'Economically active (excluding full-time students): Unemployed',\n",
    "    'Economically inactive (excluding full-time students)'\n",
    "]), :]\n",
    "\n",
    "fake_neet.loc[:, 'variable_name'] = 'Unemployed or economically inactive and not in full-time education'\n",
    "fake_neet = fake_neet.groupby(['date', 'geography_name', 'geography_code', 'age', 'gender', 'variable_name']).sum().reset_index()"
   ]
  },
  {
   "cell_type": "markdown",
   "metadata": {},
   "source": [
    "Append the raw data and fake neet frames, pivot by variable name and then calculate rates against the Total column. Then melt into long format and save to a CSV."
   ]
  },
  {
   "cell_type": "code",
   "execution_count": null,
   "metadata": {},
   "outputs": [],
   "source": [
    "data = pd.concat([\n",
    "  raw_data,\n",
    "  fake_neet\n",
    "]).pivot(index=['date', 'geography_code', 'geography_name', 'age', 'gender'], columns='variable_name', values='value')\n",
    "data.div(data.Total, axis=0).mul(100).round(1).drop(columns='Total').melt(value_name='rate', ignore_index=False).to_csv(os.path.join(OUT_PATH, 'employment-status.csv'))"
   ]
  }
 ],
 "metadata": {
  "kernelspec": {
   "display_name": "yff-data-pipeline-9Di0ELhI",
   "language": "python",
   "name": "python3"
  },
  "language_info": {
   "codemirror_mode": {
    "name": "ipython",
    "version": 3
   },
   "file_extension": ".py",
   "mimetype": "text/x-python",
   "name": "python",
   "nbconvert_exporter": "python",
   "pygments_lexer": "ipython3",
   "version": "3.10.12"
  },
  "orig_nbformat": 4
 },
 "nbformat": 4,
 "nbformat_minor": 2
}
