{
 "cells": [
  {
   "cell_type": "code",
   "execution_count": 1,
   "metadata": {},
   "outputs": [],
   "source": [
    "import os\n",
    "import sys\n",
    "\n",
    "import pandas as pd"
   ]
  },
  {
   "cell_type": "markdown",
   "metadata": {},
   "source": [
    "Add `pipeline` directory to the sys path so we can import from there."
   ]
  },
  {
   "cell_type": "code",
   "execution_count": 2,
   "metadata": {},
   "outputs": [],
   "source": [
    "PIPELINE_DIR = os.path.abspath('..')\n",
    "if PIPELINE_DIR not in sys.path:\n",
    "    sys.path.append(PIPELINE_DIR)"
   ]
  },
  {
   "cell_type": "markdown",
   "metadata": {},
   "source": [
    "Import some helper functions to deal with ONS code"
   ]
  },
  {
   "cell_type": "code",
   "execution_count": 3,
   "metadata": {},
   "outputs": [],
   "source": [
    "from ons_functions import read_headers, infer_date"
   ]
  },
  {
   "cell_type": "markdown",
   "metadata": {},
   "source": [
    "Define the mm32 raw data filename. This was the one downloaded by the `./get.py` script in this directory."
   ]
  },
  {
   "cell_type": "code",
   "execution_count": 4,
   "metadata": {},
   "outputs": [],
   "source": [
    "mm23_file = '../../data/raw/mm23.csv'"
   ]
  },
  {
   "cell_type": "markdown",
   "metadata": {},
   "source": [
    "Read the headers"
   ]
  },
  {
   "cell_type": "code",
   "execution_count": 5,
   "metadata": {},
   "outputs": [
    {
     "data": {
      "text/html": [
       "<div>\n",
       "<style scoped>\n",
       "    .dataframe tbody tr th:only-of-type {\n",
       "        vertical-align: middle;\n",
       "    }\n",
       "\n",
       "    .dataframe tbody tr th {\n",
       "        vertical-align: top;\n",
       "    }\n",
       "\n",
       "    .dataframe thead th {\n",
       "        text-align: right;\n",
       "    }\n",
       "</style>\n",
       "<table border=\"1\" class=\"dataframe\">\n",
       "  <thead>\n",
       "    <tr style=\"text-align: right;\">\n",
       "      <th></th>\n",
       "      <th>Title</th>\n",
       "      <th>PreUnit</th>\n",
       "      <th>Unit</th>\n",
       "      <th>Release Date</th>\n",
       "      <th>Next release</th>\n",
       "      <th>Important Notes</th>\n",
       "    </tr>\n",
       "    <tr>\n",
       "      <th>CDID</th>\n",
       "      <th></th>\n",
       "      <th></th>\n",
       "      <th></th>\n",
       "      <th></th>\n",
       "      <th></th>\n",
       "      <th></th>\n",
       "    </tr>\n",
       "  </thead>\n",
       "  <tbody>\n",
       "    <tr>\n",
       "      <th>A9ER</th>\n",
       "      <td>CPI wts: Non-energy industrial goods GOODS</td>\n",
       "      <td>NaN</td>\n",
       "      <td>Parts per 1000</td>\n",
       "      <td>20-09-2023</td>\n",
       "      <td>18 October 2023</td>\n",
       "      <td>NaN</td>\n",
       "    </tr>\n",
       "    <tr>\n",
       "      <th>A9ES</th>\n",
       "      <td>CPI wts: Durables GOODS</td>\n",
       "      <td>NaN</td>\n",
       "      <td>Parts per 1000</td>\n",
       "      <td>20-09-2023</td>\n",
       "      <td>18 October 2023</td>\n",
       "      <td>NaN</td>\n",
       "    </tr>\n",
       "    <tr>\n",
       "      <th>A9ET</th>\n",
       "      <td>CPI wts: Semi-durables GOODS</td>\n",
       "      <td>NaN</td>\n",
       "      <td>Parts per 1000</td>\n",
       "      <td>20-09-2023</td>\n",
       "      <td>18 October 2023</td>\n",
       "      <td>NaN</td>\n",
       "    </tr>\n",
       "    <tr>\n",
       "      <th>A9EU</th>\n",
       "      <td>CPI wts: Non-durables GOODS</td>\n",
       "      <td>NaN</td>\n",
       "      <td>Parts per 1000</td>\n",
       "      <td>20-09-2023</td>\n",
       "      <td>18 October 2023</td>\n",
       "      <td>NaN</td>\n",
       "    </tr>\n",
       "    <tr>\n",
       "      <th>A9EV</th>\n",
       "      <td>CPI wts: Non-seasonal food GOODS</td>\n",
       "      <td>NaN</td>\n",
       "      <td>Parts per 1000</td>\n",
       "      <td>20-09-2023</td>\n",
       "      <td>18 October 2023</td>\n",
       "      <td>NaN</td>\n",
       "    </tr>\n",
       "    <tr>\n",
       "      <th>...</th>\n",
       "      <td>...</td>\n",
       "      <td>...</td>\n",
       "      <td>...</td>\n",
       "      <td>...</td>\n",
       "      <td>...</td>\n",
       "      <td>...</td>\n",
       "    </tr>\n",
       "    <tr>\n",
       "      <th>WUOU</th>\n",
       "      <td>CPI: % points change over previous month (12 m...</td>\n",
       "      <td>NaN</td>\n",
       "      <td>%</td>\n",
       "      <td>20-09-2023</td>\n",
       "      <td>18 October 2023</td>\n",
       "      <td>NaN</td>\n",
       "    </tr>\n",
       "    <tr>\n",
       "      <th>WUOV</th>\n",
       "      <td>CPI: % points change over previous month (12 m...</td>\n",
       "      <td>NaN</td>\n",
       "      <td>%</td>\n",
       "      <td>20-09-2023</td>\n",
       "      <td>18 October 2023</td>\n",
       "      <td>NaN</td>\n",
       "    </tr>\n",
       "    <tr>\n",
       "      <th>WUOW</th>\n",
       "      <td>CPI: % points change over previous month (12 m...</td>\n",
       "      <td>NaN</td>\n",
       "      <td>%</td>\n",
       "      <td>20-09-2023</td>\n",
       "      <td>18 October 2023</td>\n",
       "      <td>NaN</td>\n",
       "    </tr>\n",
       "    <tr>\n",
       "      <th>ZMHO</th>\n",
       "      <td>Internal purchasing power of the pound (based ...</td>\n",
       "      <td>NaN</td>\n",
       "      <td>Pence</td>\n",
       "      <td>20-09-2023</td>\n",
       "      <td>18 October 2023</td>\n",
       "      <td>NaN</td>\n",
       "    </tr>\n",
       "    <tr>\n",
       "      <th>ZPTX</th>\n",
       "      <td>RPI: Ave price - Salmon fillets, per Kg</td>\n",
       "      <td>NaN</td>\n",
       "      <td>Pence</td>\n",
       "      <td>20-09-2023</td>\n",
       "      <td>18 October 2023</td>\n",
       "      <td>NaN</td>\n",
       "    </tr>\n",
       "  </tbody>\n",
       "</table>\n",
       "<p>4053 rows × 6 columns</p>\n",
       "</div>"
      ],
      "text/plain": [
       "0                                                 Title PreUnit  \\\n",
       "CDID                                                              \n",
       "A9ER         CPI wts: Non-energy industrial goods GOODS     NaN   \n",
       "A9ES                            CPI wts: Durables GOODS     NaN   \n",
       "A9ET                       CPI wts: Semi-durables GOODS     NaN   \n",
       "A9EU                        CPI wts: Non-durables GOODS     NaN   \n",
       "A9EV                   CPI wts: Non-seasonal food GOODS     NaN   \n",
       "...                                                 ...     ...   \n",
       "WUOU  CPI: % points change over previous month (12 m...     NaN   \n",
       "WUOV  CPI: % points change over previous month (12 m...     NaN   \n",
       "WUOW  CPI: % points change over previous month (12 m...     NaN   \n",
       "ZMHO  Internal purchasing power of the pound (based ...     NaN   \n",
       "ZPTX            RPI: Ave price - Salmon fillets, per Kg     NaN   \n",
       "\n",
       "0               Unit Release Date     Next release Important Notes  \n",
       "CDID                                                                \n",
       "A9ER  Parts per 1000   20-09-2023  18 October 2023             NaN  \n",
       "A9ES  Parts per 1000   20-09-2023  18 October 2023             NaN  \n",
       "A9ET  Parts per 1000   20-09-2023  18 October 2023             NaN  \n",
       "A9EU  Parts per 1000   20-09-2023  18 October 2023             NaN  \n",
       "A9EV  Parts per 1000   20-09-2023  18 October 2023             NaN  \n",
       "...              ...          ...              ...             ...  \n",
       "WUOU               %   20-09-2023  18 October 2023             NaN  \n",
       "WUOV               %   20-09-2023  18 October 2023             NaN  \n",
       "WUOW               %   20-09-2023  18 October 2023             NaN  \n",
       "ZMHO           Pence   20-09-2023  18 October 2023             NaN  \n",
       "ZPTX           Pence   20-09-2023  18 October 2023             NaN  \n",
       "\n",
       "[4053 rows x 6 columns]"
      ]
     },
     "execution_count": 5,
     "metadata": {},
     "output_type": "execute_result"
    }
   ],
   "source": [
    "headers = read_headers(mm23_file, header_rows=7)\n",
    "headers"
   ]
  },
  {
   "cell_type": "markdown",
   "metadata": {},
   "source": [
    "Save the header files"
   ]
  },
  {
   "cell_type": "code",
   "execution_count": 6,
   "metadata": {},
   "outputs": [],
   "source": [
    "METADATA_FILE = '../../data/metadata/cpi/mm23-codes.csv'\n",
    "os.makedirs(os.path.dirname(METADATA_FILE), exist_ok=True)\n",
    "headers.to_csv(METADATA_FILE)"
   ]
  },
  {
   "cell_type": "markdown",
   "metadata": {},
   "source": [
    "Load the data"
   ]
  },
  {
   "cell_type": "code",
   "execution_count": 7,
   "metadata": {},
   "outputs": [],
   "source": [
    "data = pd.read_csv(mm23_file, header=[1,6], index_col=0)\n",
    "data.columns = data.columns.droplevel(1)"
   ]
  },
  {
   "cell_type": "markdown",
   "metadata": {},
   "source": [
    "Merge the data with the inferred date and frequency, then melt the frame by date and frequency. Drop any null values, then sort by date and then variable."
   ]
  },
  {
   "cell_type": "code",
   "execution_count": 8,
   "metadata": {},
   "outputs": [],
   "source": [
    "\n",
    "mm23 = data.merge(\n",
    "  data.index.to_series().pipe(infer_date),\n",
    "  left_index=True, right_index=True\n",
    ").melt(\n",
    "  id_vars=['date', 'freq']\n",
    ").dropna().sort_values(\n",
    "  ['date', 'variable']\n",
    ")\n"
   ]
  },
  {
   "cell_type": "markdown",
   "metadata": {},
   "source": [
    "Save the data file"
   ]
  },
  {
   "cell_type": "code",
   "execution_count": 9,
   "metadata": {},
   "outputs": [],
   "source": [
    "DATA_FILE = '../../data/processed/cpi/mm23.csv'\n",
    "os.makedirs(os.path.dirname(DATA_FILE), exist_ok=True)\n",
    "mm23.to_csv(DATA_FILE, index=None)"
   ]
  }
 ],
 "metadata": {
  "kernelspec": {
   "display_name": "yff-data-pipeline-9Di0ELhI",
   "language": "python",
   "name": "python3"
  },
  "language_info": {
   "codemirror_mode": {
    "name": "ipython",
    "version": 3
   },
   "file_extension": ".py",
   "mimetype": "text/x-python",
   "name": "python",
   "nbconvert_exporter": "python",
   "pygments_lexer": "ipython3",
   "version": "3.10.12"
  },
  "orig_nbformat": 4
 },
 "nbformat": 4,
 "nbformat_minor": 2
}
