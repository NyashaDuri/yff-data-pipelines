{
 "cells": [
  {
   "cell_type": "code",
   "execution_count": 2,
   "metadata": {},
   "outputs": [],
   "source": [
    "import os\n",
    "import pandas as pd"
   ]
  },
  {
   "cell_type": "markdown",
   "metadata": {},
   "source": [
    "Load the latest CSV. This is imported using `dvc import-url`, and updated using `dvc update -R data/raw`."
   ]
  },
  {
   "cell_type": "code",
   "execution_count": 3,
   "metadata": {},
   "outputs": [],
   "source": [
    "data = pd.read_csv(\n",
    "    '../data/raw/LMS_latest_by_geo.csv',\n",
    "    parse_dates=['DATE'],\n",
    "    usecols=['DATE', 'GEOGRAPHY_CODE', 'GEOGRAPHY_NAME', 'GEOGRAPHY_TYPE', 'VARIABLE_CODE', 'VARIABLE_NAME', 'MEASURES_NAME', 'OBS_VALUE']\n",
    ")"
   ]
  },
  {
   "cell_type": "markdown",
   "metadata": {},
   "source": [
    "Convert the column names to lower case."
   ]
  },
  {
   "cell_type": "code",
   "execution_count": 4,
   "metadata": {},
   "outputs": [],
   "source": [
    "data.columns = data.columns.str.lower()"
   ]
  },
  {
   "cell_type": "markdown",
   "metadata": {},
   "source": [
    "Rename the `obs_value` column to `value`."
   ]
  },
  {
   "cell_type": "code",
   "execution_count": 5,
   "metadata": {},
   "outputs": [],
   "source": [
    "data = data.rename(\n",
    "    columns={ 'obs_value': 'value' }\n",
    ")"
   ]
  },
  {
   "cell_type": "markdown",
   "metadata": {},
   "source": [
    "Filter out only the **Variable** measures. The dataset also provides other measures such as **Numerator**, **Denominator** and **Confidence**"
   ]
  },
  {
   "cell_type": "code",
   "execution_count": 6,
   "metadata": {},
   "outputs": [],
   "source": [
    "data = data.loc[ data.measures_name == 'Variable' ].drop(columns='measures_name')"
   ]
  },
  {
   "cell_type": "markdown",
   "metadata": {},
   "source": [
    "Create the target directory."
   ]
  },
  {
   "cell_type": "code",
   "execution_count": 7,
   "metadata": {},
   "outputs": [],
   "source": [
    "OUTPUT_DIR = '../data/processed/labour-market' \n",
    "os.makedirs(OUTPUT_DIR, exist_ok=True)"
   ]
  },
  {
   "cell_type": "code",
   "execution_count": 8,
   "metadata": {},
   "outputs": [],
   "source": [
    "data.loc[ data.geography_type == 'parliamentary constituencies 2010' ].drop(columns=['geography_type']).to_csv(f'{OUTPUT_DIR}/lms_by_pcon_2010.csv', index=False)"
   ]
  },
  {
   "cell_type": "code",
   "execution_count": 9,
   "metadata": {},
   "outputs": [
    {
     "data": {
      "text/html": [
       "<div>\n",
       "<style scoped>\n",
       "    .dataframe tbody tr th:only-of-type {\n",
       "        vertical-align: middle;\n",
       "    }\n",
       "\n",
       "    .dataframe tbody tr th {\n",
       "        vertical-align: top;\n",
       "    }\n",
       "\n",
       "    .dataframe thead th {\n",
       "        text-align: right;\n",
       "    }\n",
       "</style>\n",
       "<table border=\"1\" class=\"dataframe\">\n",
       "  <thead>\n",
       "    <tr style=\"text-align: right;\">\n",
       "      <th></th>\n",
       "      <th>date</th>\n",
       "      <th>geography_name</th>\n",
       "      <th>geography_code</th>\n",
       "      <th>geography_type</th>\n",
       "      <th>variable_name</th>\n",
       "      <th>variable_code</th>\n",
       "      <th>value</th>\n",
       "    </tr>\n",
       "  </thead>\n",
       "  <tbody>\n",
       "    <tr>\n",
       "      <th>0</th>\n",
       "      <td>2023-03-01</td>\n",
       "      <td>Berwick-upon-Tweed</td>\n",
       "      <td>E14000554</td>\n",
       "      <td>parliamentary constituencies 2010</td>\n",
       "      <td>Economic activity rate - aged 16-24</td>\n",
       "      <td>1201</td>\n",
       "      <td>65.3</td>\n",
       "    </tr>\n",
       "    <tr>\n",
       "      <th>4</th>\n",
       "      <td>2023-03-01</td>\n",
       "      <td>Berwick-upon-Tweed</td>\n",
       "      <td>E14000554</td>\n",
       "      <td>parliamentary constituencies 2010</td>\n",
       "      <td>% who are economically inactive - aged 16-24</td>\n",
       "      <td>1219</td>\n",
       "      <td>34.7</td>\n",
       "    </tr>\n",
       "    <tr>\n",
       "      <th>8</th>\n",
       "      <td>2023-03-01</td>\n",
       "      <td>Berwick-upon-Tweed</td>\n",
       "      <td>E14000554</td>\n",
       "      <td>parliamentary constituencies 2010</td>\n",
       "      <td>Employment rate - aged 16-24</td>\n",
       "      <td>1207</td>\n",
       "      <td>52.3</td>\n",
       "    </tr>\n",
       "    <tr>\n",
       "      <th>12</th>\n",
       "      <td>2023-03-01</td>\n",
       "      <td>Berwick-upon-Tweed</td>\n",
       "      <td>E14000554</td>\n",
       "      <td>parliamentary constituencies 2010</td>\n",
       "      <td>Unemployment rate - aged 16-24</td>\n",
       "      <td>1213</td>\n",
       "      <td>NaN</td>\n",
       "    </tr>\n",
       "    <tr>\n",
       "      <th>16</th>\n",
       "      <td>2023-03-01</td>\n",
       "      <td>Berwick-upon-Tweed</td>\n",
       "      <td>E14000554</td>\n",
       "      <td>parliamentary constituencies 2010</td>\n",
       "      <td>% aged 18-24 in employment</td>\n",
       "      <td>542</td>\n",
       "      <td>71.0</td>\n",
       "    </tr>\n",
       "    <tr>\n",
       "      <th>...</th>\n",
       "      <td>...</td>\n",
       "      <td>...</td>\n",
       "      <td>...</td>\n",
       "      <td>...</td>\n",
       "      <td>...</td>\n",
       "      <td>...</td>\n",
       "      <td>...</td>\n",
       "    </tr>\n",
       "    <tr>\n",
       "      <th>24980</th>\n",
       "      <td>2023-03-01</td>\n",
       "      <td>Bournemouth West</td>\n",
       "      <td>E14000585</td>\n",
       "      <td>parliamentary constituencies 2010</td>\n",
       "      <td>% aged 18-24 unemployed (percentage of all, no...</td>\n",
       "      <td>543</td>\n",
       "      <td>NaN</td>\n",
       "    </tr>\n",
       "    <tr>\n",
       "      <th>24984</th>\n",
       "      <td>2023-03-01</td>\n",
       "      <td>Bournemouth West</td>\n",
       "      <td>E14000585</td>\n",
       "      <td>parliamentary constituencies 2010</td>\n",
       "      <td>% aged 18-24 in full time education</td>\n",
       "      <td>544</td>\n",
       "      <td>14.0</td>\n",
       "    </tr>\n",
       "    <tr>\n",
       "      <th>24988</th>\n",
       "      <td>2023-03-01</td>\n",
       "      <td>Bournemouth West</td>\n",
       "      <td>E14000585</td>\n",
       "      <td>parliamentary constituencies 2010</td>\n",
       "      <td>% aged 18-64 economically active with NVQ leve...</td>\n",
       "      <td>545</td>\n",
       "      <td>NaN</td>\n",
       "    </tr>\n",
       "    <tr>\n",
       "      <th>24992</th>\n",
       "      <td>2023-03-01</td>\n",
       "      <td>Bournemouth West</td>\n",
       "      <td>E14000585</td>\n",
       "      <td>parliamentary constituencies 2010</td>\n",
       "      <td>% aged 18-64 economically active with NVQ leve...</td>\n",
       "      <td>546</td>\n",
       "      <td>NaN</td>\n",
       "    </tr>\n",
       "    <tr>\n",
       "      <th>24996</th>\n",
       "      <td>2023-03-01</td>\n",
       "      <td>Bournemouth West</td>\n",
       "      <td>E14000585</td>\n",
       "      <td>parliamentary constituencies 2010</td>\n",
       "      <td>Economic activity rate - aged 16-64</td>\n",
       "      <td>18</td>\n",
       "      <td>85.4</td>\n",
       "    </tr>\n",
       "  </tbody>\n",
       "</table>\n",
       "<p>6250 rows × 7 columns</p>\n",
       "</div>"
      ],
      "text/plain": [
       "            date      geography_name geography_code  \\\n",
       "0     2023-03-01  Berwick-upon-Tweed      E14000554   \n",
       "4     2023-03-01  Berwick-upon-Tweed      E14000554   \n",
       "8     2023-03-01  Berwick-upon-Tweed      E14000554   \n",
       "12    2023-03-01  Berwick-upon-Tweed      E14000554   \n",
       "16    2023-03-01  Berwick-upon-Tweed      E14000554   \n",
       "...          ...                 ...            ...   \n",
       "24980 2023-03-01    Bournemouth West      E14000585   \n",
       "24984 2023-03-01    Bournemouth West      E14000585   \n",
       "24988 2023-03-01    Bournemouth West      E14000585   \n",
       "24992 2023-03-01    Bournemouth West      E14000585   \n",
       "24996 2023-03-01    Bournemouth West      E14000585   \n",
       "\n",
       "                          geography_type  \\\n",
       "0      parliamentary constituencies 2010   \n",
       "4      parliamentary constituencies 2010   \n",
       "8      parliamentary constituencies 2010   \n",
       "12     parliamentary constituencies 2010   \n",
       "16     parliamentary constituencies 2010   \n",
       "...                                  ...   \n",
       "24980  parliamentary constituencies 2010   \n",
       "24984  parliamentary constituencies 2010   \n",
       "24988  parliamentary constituencies 2010   \n",
       "24992  parliamentary constituencies 2010   \n",
       "24996  parliamentary constituencies 2010   \n",
       "\n",
       "                                           variable_name  variable_code  value  \n",
       "0                    Economic activity rate - aged 16-24           1201   65.3  \n",
       "4           % who are economically inactive - aged 16-24           1219   34.7  \n",
       "8                           Employment rate - aged 16-24           1207   52.3  \n",
       "12                        Unemployment rate - aged 16-24           1213    NaN  \n",
       "16                            % aged 18-24 in employment            542   71.0  \n",
       "...                                                  ...            ...    ...  \n",
       "24980  % aged 18-24 unemployed (percentage of all, no...            543    NaN  \n",
       "24984                % aged 18-24 in full time education            544   14.0  \n",
       "24988  % aged 18-64 economically active with NVQ leve...            545    NaN  \n",
       "24992  % aged 18-64 economically active with NVQ leve...            546    NaN  \n",
       "24996                Economic activity rate - aged 16-64             18   85.4  \n",
       "\n",
       "[6250 rows x 7 columns]"
      ]
     },
     "execution_count": 9,
     "metadata": {},
     "output_type": "execute_result"
    }
   ],
   "source": [
    "data"
   ]
  },
  {
   "cell_type": "code",
   "execution_count": null,
   "metadata": {},
   "outputs": [],
   "source": []
  }
 ],
 "metadata": {
  "kernelspec": {
   "display_name": "yff-data-pipeline-9Di0ELhI",
   "language": "python",
   "name": "python3"
  },
  "language_info": {
   "codemirror_mode": {
    "name": "ipython",
    "version": 3
   },
   "file_extension": ".py",
   "mimetype": "text/x-python",
   "name": "python",
   "nbconvert_exporter": "python",
   "pygments_lexer": "ipython3",
   "version": "3.10.12"
  },
  "orig_nbformat": 4
 },
 "nbformat": 4,
 "nbformat_minor": 2
}
