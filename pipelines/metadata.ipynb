{
 "cells": [
  {
   "cell_type": "code",
   "execution_count": 1,
   "metadata": {},
   "outputs": [],
   "source": [
    "import pandas as pd"
   ]
  },
  {
   "cell_type": "markdown",
   "metadata": {},
   "source": [
    "Load the datasets"
   ]
  },
  {
   "cell_type": "code",
   "execution_count": 2,
   "metadata": {},
   "outputs": [],
   "source": [
    "datasets = {\n",
    "  'LMS': 'lms-codes.csv',\n",
    "  'MM23': 'mm23-codes.csv'\n",
    "}"
   ]
  },
  {
   "cell_type": "markdown",
   "metadata": {},
   "source": [
    "Load the code files"
   ]
  },
  {
   "cell_type": "code",
   "execution_count": 3,
   "metadata": {},
   "outputs": [],
   "source": [
    "def append_dataset(data, id):\n",
    "    data['id'] = id\n",
    "    return data\n",
    "\n",
    "all_codes = pd.concat([\n",
    "  pd.read_csv(\n",
    "    f'../data/metadata/codes/{code_file}',\n",
    "    parse_dates=['Release Date', 'Next release'],\n",
    "    dayfirst=True\n",
    "  ).pipe(\n",
    "    append_dataset, id\n",
    "  )\n",
    "  for id, code_file\n",
    "  in datasets.items()\n",
    "]).reset_index()\n",
    "\n",
    "all_codes.columns = all_codes.columns.str.lower().str.replace('\\s+', '_', regex=True)\n",
    "all_codes.rename(columns={\n",
    "  'release_date': 'last_update',\n",
    "  'next_release': 'next_update'\n",
    "}, inplace=True)"
   ]
  },
  {
   "cell_type": "markdown",
   "metadata": {},
   "source": [
    "Save the last and next updates in a csv"
   ]
  },
  {
   "cell_type": "code",
   "execution_count": 4,
   "metadata": {},
   "outputs": [],
   "source": [
    "all_codes.loc[:, ['id', 'last_update', 'next_update']].drop_duplicates().to_csv('../data/metadata/metadata.csv', index=False)"
   ]
  }
 ],
 "metadata": {
  "kernelspec": {
   "display_name": "yff-data-pipeline-9Di0ELhI",
   "language": "python",
   "name": "python3"
  },
  "language_info": {
   "codemirror_mode": {
    "name": "ipython",
    "version": 3
   },
   "file_extension": ".py",
   "mimetype": "text/x-python",
   "name": "python",
   "nbconvert_exporter": "python",
   "pygments_lexer": "ipython3",
   "version": "3.10.12"
  },
  "orig_nbformat": 4
 },
 "nbformat": 4,
 "nbformat_minor": 2
}
