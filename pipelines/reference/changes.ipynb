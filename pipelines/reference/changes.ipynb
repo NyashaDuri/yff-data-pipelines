{
 "cells": [
  {
   "cell_type": "code",
   "execution_count": 1,
   "metadata": {},
   "outputs": [],
   "source": [
    "from pathlib import Path\n",
    "import geopandas as gpd"
   ]
  },
  {
   "cell_type": "code",
   "execution_count": 2,
   "metadata": {},
   "outputs": [],
   "source": [
    "pcon21 = gpd.read_file('../../data/reference/pcon.geojson')[[\"PCON21CD\", \"PCON21NM\"]].set_index(\"PCON21NM\")"
   ]
  },
  {
   "cell_type": "markdown",
   "metadata": {},
   "source": [
    "The conventional names seem to have changed to omit a comma if a name of city included in constituency name. Need to clean these ip"
   ]
  },
  {
   "cell_type": "code",
   "execution_count": 3,
   "metadata": {},
   "outputs": [],
   "source": [
    "pcon21.index = pcon21.index.str.replace(r'(Birmingham|Brighton|Ealing|Enfield|Lewisham|Liverpool|Manchester|Plymouth|Sheffield|Southampton),', r'\\1', regex=True)"
   ]
  },
  {
   "cell_type": "code",
   "execution_count": 4,
   "metadata": {},
   "outputs": [],
   "source": [
    "pcon24 = gpd.read_file('../../data/reference/uk-constituencies-2024.geojson')[[\"PCON24CD\", \"PCON24NM\"]].set_index(\"PCON24NM\")"
   ]
  },
  {
   "cell_type": "code",
   "execution_count": 5,
   "metadata": {},
   "outputs": [],
   "source": [
    "changes = pcon21.join(\n",
    "  pcon24,\n",
    "  how=\"outer\"\n",
    ").sort_values('PCON24CD')\n",
    "changes.index.names = ['PCON_NM']"
   ]
  },
  {
   "cell_type": "code",
   "execution_count": 6,
   "metadata": {},
   "outputs": [],
   "source": [
    "data_dir = Path('../../data/reference/')"
   ]
  },
  {
   "cell_type": "code",
   "execution_count": 7,
   "metadata": {},
   "outputs": [],
   "source": [
    "changes.to_csv(data_dir / \"uk-constituencies-2024-changes.csv\")"
   ]
  },
  {
   "cell_type": "markdown",
   "metadata": {},
   "source": [
    "Let's take a look at the English changes"
   ]
  },
  {
   "cell_type": "code",
   "execution_count": 8,
   "metadata": {},
   "outputs": [],
   "source": [
    "changes_e = changes[(changes.PCON21CD.str.startswith(\"E\", na=False) | changes.PCON24CD.str.startswith(\"E\", na=False))]"
   ]
  },
  {
   "cell_type": "code",
   "execution_count": 9,
   "metadata": {},
   "outputs": [
    {
     "data": {
      "text/plain": [
       "equivalence_found    374\n",
       "new                  169\n",
       "retired              159\n",
       "count_21             533\n",
       "count_24             543\n",
       "dtype: int64"
      ]
     },
     "execution_count": 9,
     "metadata": {},
     "output_type": "execute_result"
    }
   ],
   "source": [
    "import pandas as pd\n",
    "pd.Series(\n",
    "    index=[\n",
    "      'equivalence_found',\n",
    "      'new',\n",
    "      'retired',\n",
    "      'count_21',\n",
    "      'count_24',\n",
    "    ],\n",
    "    data=[\n",
    "      (changes_e.PCON24CD.notna() & changes_e.PCON21CD.notna()).sum(),\n",
    "      (changes_e.PCON24CD.notna() & changes_e.PCON21CD.isna()).sum(),\n",
    "      (changes_e.PCON24CD.isna() & changes_e.PCON21CD.notna()).sum(),\n",
    "      (changes_e.PCON21CD.notna()).sum(),\n",
    "      (changes_e.PCON24CD.notna()).sum(),\n",
    "    ]\n",
    ")"
   ]
  },
  {
   "cell_type": "code",
   "execution_count": 10,
   "metadata": {},
   "outputs": [
    {
     "data": {
      "text/html": [
       "<div>\n",
       "<style scoped>\n",
       "    .dataframe tbody tr th:only-of-type {\n",
       "        vertical-align: middle;\n",
       "    }\n",
       "\n",
       "    .dataframe tbody tr th {\n",
       "        vertical-align: top;\n",
       "    }\n",
       "\n",
       "    .dataframe thead th {\n",
       "        text-align: right;\n",
       "    }\n",
       "</style>\n",
       "<table border=\"1\" class=\"dataframe\">\n",
       "  <thead>\n",
       "    <tr style=\"text-align: right;\">\n",
       "      <th></th>\n",
       "      <th>PCON21CD</th>\n",
       "      <th>PCON24CD</th>\n",
       "    </tr>\n",
       "    <tr>\n",
       "      <th>PCON_NM</th>\n",
       "      <th></th>\n",
       "      <th></th>\n",
       "    </tr>\n",
       "  </thead>\n",
       "  <tbody>\n",
       "    <tr>\n",
       "      <th>Barnsley North</th>\n",
       "      <td>NaN</td>\n",
       "      <td>E14001074</td>\n",
       "    </tr>\n",
       "    <tr>\n",
       "      <th>Barnsley South</th>\n",
       "      <td>NaN</td>\n",
       "      <td>E14001075</td>\n",
       "    </tr>\n",
       "    <tr>\n",
       "      <th>Beckenham and Penge</th>\n",
       "      <td>NaN</td>\n",
       "      <td>E14001083</td>\n",
       "    </tr>\n",
       "    <tr>\n",
       "      <th>Bethnal Green and Stepney</th>\n",
       "      <td>NaN</td>\n",
       "      <td>E14001086</td>\n",
       "    </tr>\n",
       "    <tr>\n",
       "      <th>Bicester and Woodstock</th>\n",
       "      <td>NaN</td>\n",
       "      <td>E14001090</td>\n",
       "    </tr>\n",
       "    <tr>\n",
       "      <th>...</th>\n",
       "      <td>...</td>\n",
       "      <td>...</td>\n",
       "    </tr>\n",
       "    <tr>\n",
       "      <th>Wetherby and Easingwold</th>\n",
       "      <td>NaN</td>\n",
       "      <td>E14001582</td>\n",
       "    </tr>\n",
       "    <tr>\n",
       "      <th>Whitehaven and Workington</th>\n",
       "      <td>NaN</td>\n",
       "      <td>E14001583</td>\n",
       "    </tr>\n",
       "    <tr>\n",
       "      <th>Widnes and Halewood</th>\n",
       "      <td>NaN</td>\n",
       "      <td>E14001584</td>\n",
       "    </tr>\n",
       "    <tr>\n",
       "      <th>Wolverhampton West</th>\n",
       "      <td>NaN</td>\n",
       "      <td>E14001596</td>\n",
       "    </tr>\n",
       "    <tr>\n",
       "      <th>Worsley and Eccles</th>\n",
       "      <td>NaN</td>\n",
       "      <td>E14001598</td>\n",
       "    </tr>\n",
       "  </tbody>\n",
       "</table>\n",
       "<p>169 rows × 2 columns</p>\n",
       "</div>"
      ],
      "text/plain": [
       "                          PCON21CD   PCON24CD\n",
       "PCON_NM                                      \n",
       "Barnsley North                 NaN  E14001074\n",
       "Barnsley South                 NaN  E14001075\n",
       "Beckenham and Penge            NaN  E14001083\n",
       "Bethnal Green and Stepney      NaN  E14001086\n",
       "Bicester and Woodstock         NaN  E14001090\n",
       "...                            ...        ...\n",
       "Wetherby and Easingwold        NaN  E14001582\n",
       "Whitehaven and Workington      NaN  E14001583\n",
       "Widnes and Halewood            NaN  E14001584\n",
       "Wolverhampton West             NaN  E14001596\n",
       "Worsley and Eccles             NaN  E14001598\n",
       "\n",
       "[169 rows x 2 columns]"
      ]
     },
     "execution_count": 10,
     "metadata": {},
     "output_type": "execute_result"
    }
   ],
   "source": [
    "changes_e[changes_e.PCON21CD.isna()]"
   ]
  },
  {
   "cell_type": "markdown",
   "metadata": {},
   "source": [
    "There has been a net increase of ten English constituencies, with two coming from Scotland and eight from Wales. Northern Irish constituency counts are the same."
   ]
  },
  {
   "cell_type": "code",
   "execution_count": 11,
   "metadata": {},
   "outputs": [
    {
     "data": {
      "text/html": [
       "<div>\n",
       "<style scoped>\n",
       "    .dataframe tbody tr th:only-of-type {\n",
       "        vertical-align: middle;\n",
       "    }\n",
       "\n",
       "    .dataframe tbody tr th {\n",
       "        vertical-align: top;\n",
       "    }\n",
       "\n",
       "    .dataframe thead th {\n",
       "        text-align: right;\n",
       "    }\n",
       "</style>\n",
       "<table border=\"1\" class=\"dataframe\">\n",
       "  <thead>\n",
       "    <tr style=\"text-align: right;\">\n",
       "      <th></th>\n",
       "      <th>PCON21NM</th>\n",
       "      <th>PCON24NM</th>\n",
       "    </tr>\n",
       "    <tr>\n",
       "      <th>Nation</th>\n",
       "      <th></th>\n",
       "      <th></th>\n",
       "    </tr>\n",
       "  </thead>\n",
       "  <tbody>\n",
       "    <tr>\n",
       "      <th>E</th>\n",
       "      <td>533</td>\n",
       "      <td>543</td>\n",
       "    </tr>\n",
       "    <tr>\n",
       "      <th>N</th>\n",
       "      <td>18</td>\n",
       "      <td>18</td>\n",
       "    </tr>\n",
       "    <tr>\n",
       "      <th>S</th>\n",
       "      <td>59</td>\n",
       "      <td>57</td>\n",
       "    </tr>\n",
       "    <tr>\n",
       "      <th>W</th>\n",
       "      <td>40</td>\n",
       "      <td>32</td>\n",
       "    </tr>\n",
       "  </tbody>\n",
       "</table>\n",
       "</div>"
      ],
      "text/plain": [
       "        PCON21NM  PCON24NM\n",
       "Nation                    \n",
       "E            533       543\n",
       "N             18        18\n",
       "S             59        57\n",
       "W             40        32"
      ]
     },
     "execution_count": 11,
     "metadata": {},
     "output_type": "execute_result"
    }
   ],
   "source": [
    "pd.concat([\n",
    "  pcon21.PCON21CD.str.slice(0, 1).reset_index().rename(columns={'PCON21CD': 'Nation'}).groupby('Nation').count(),\n",
    "  pcon24.PCON24CD.str.slice(0, 1).reset_index().rename(columns={'PCON24CD': 'Nation'}).groupby('Nation').count()\n",
    "], axis=1)"
   ]
  },
  {
   "cell_type": "code",
   "execution_count": null,
   "metadata": {},
   "outputs": [],
   "source": []
  }
 ],
 "metadata": {
  "kernelspec": {
   "display_name": "yff-data-pipeline-9Di0ELhI",
   "language": "python",
   "name": "python3"
  },
  "language_info": {
   "codemirror_mode": {
    "name": "ipython",
    "version": 3
   },
   "file_extension": ".py",
   "mimetype": "text/x-python",
   "name": "python",
   "nbconvert_exporter": "python",
   "pygments_lexer": "ipython3",
   "version": "3.10.12"
  }
 },
 "nbformat": 4,
 "nbformat_minor": 2
}
