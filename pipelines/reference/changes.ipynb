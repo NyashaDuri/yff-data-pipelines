{
 "cells": [
  {
   "cell_type": "code",
   "execution_count": 23,
   "metadata": {},
   "outputs": [],
   "source": [
    "from pathlib import Path\n",
    "import geopandas as gpd\n",
    "import pandas as pd"
   ]
  },
  {
   "cell_type": "code",
   "execution_count": 24,
   "metadata": {},
   "outputs": [],
   "source": [
    "REF_DATA = Path('../../data/reference')"
   ]
  },
  {
   "cell_type": "code",
   "execution_count": 25,
   "metadata": {},
   "outputs": [],
   "source": [
    "pcon21 = gpd.read_file(REF_DATA / 'pcon.geojson')[[\"PCON21CD\", \"PCON21NM\"]].set_index(\"PCON21NM\")"
   ]
  },
  {
   "cell_type": "markdown",
   "metadata": {},
   "source": [
    "The conventional names seem to have changed to omit a comma if a name of city included in constituency name. Need to clean these up"
   ]
  },
  {
   "cell_type": "code",
   "execution_count": 26,
   "metadata": {},
   "outputs": [],
   "source": [
    "pcon21.index = pcon21.index.str.replace(r'(Birmingham|Brighton|Ealing|Enfield|Lewisham|Liverpool|Manchester|Plymouth|Sheffield|Southampton),', r'\\1', regex=True)"
   ]
  },
  {
   "cell_type": "code",
   "execution_count": 27,
   "metadata": {},
   "outputs": [],
   "source": [
    "pcon24 = gpd.read_file(REF_DATA / 'uk-constituencies-2024.geojson')[[\"PCON24CD\", \"PCON24NM\"]]"
   ]
  },
  {
   "cell_type": "code",
   "execution_count": 28,
   "metadata": {},
   "outputs": [],
   "source": [
    "mappings = pd.read_csv(REF_DATA / 'pcon_mapping.csv')"
   ]
  },
  {
   "cell_type": "code",
   "execution_count": 29,
   "metadata": {},
   "outputs": [],
   "source": [
    "weights = mappings.groupby('PCON24CD')[['PCON22CD', 'weight']].apply(lambda x: x.set_index('PCON22CD').to_dict()['weight']).to_frame().rename(columns={0: 'weights'})"
   ]
  },
  {
   "cell_type": "code",
   "execution_count": 30,
   "metadata": {},
   "outputs": [],
   "source": [
    "changes = pcon24.merge(\n",
    "  pcon21,\n",
    "  left_on=\"PCON24NM\",\n",
    "  right_index=True,\n",
    "  how=\"outer\"\n",
    ").sort_values('PCON24CD').query('PCON24CD.notna()').set_index('PCON24CD').rename(columns={'PCON21CD': 'PCON10CD'}).merge(\n",
    "  weights,\n",
    "  left_index=True,\n",
    "  right_index=True\n",
    ")"
   ]
  },
  {
   "cell_type": "code",
   "execution_count": 31,
   "metadata": {},
   "outputs": [],
   "source": [
    "data_dir = Path('../../data/reference/')"
   ]
  },
  {
   "cell_type": "code",
   "execution_count": 32,
   "metadata": {},
   "outputs": [],
   "source": [
    "changes.to_json(data_dir / \"uk-constituencies-2024-changes.json\", orient=\"index\", indent=2)"
   ]
  },
  {
   "cell_type": "code",
   "execution_count": 33,
   "metadata": {},
   "outputs": [
    {
     "data": {
      "text/html": [
       "<div>\n",
       "<style scoped>\n",
       "    .dataframe tbody tr th:only-of-type {\n",
       "        vertical-align: middle;\n",
       "    }\n",
       "\n",
       "    .dataframe tbody tr th {\n",
       "        vertical-align: top;\n",
       "    }\n",
       "\n",
       "    .dataframe thead th {\n",
       "        text-align: right;\n",
       "    }\n",
       "</style>\n",
       "<table border=\"1\" class=\"dataframe\">\n",
       "  <thead>\n",
       "    <tr style=\"text-align: right;\">\n",
       "      <th></th>\n",
       "      <th>PCON24NM</th>\n",
       "      <th>PCON10CD</th>\n",
       "      <th>weights</th>\n",
       "    </tr>\n",
       "    <tr>\n",
       "      <th>PCON24CD</th>\n",
       "      <th></th>\n",
       "      <th></th>\n",
       "      <th></th>\n",
       "    </tr>\n",
       "  </thead>\n",
       "  <tbody>\n",
       "    <tr>\n",
       "      <th>E14001063</th>\n",
       "      <td>Aldershot</td>\n",
       "      <td>E14000530</td>\n",
       "      <td>{'E14000530': 0.928, 'E14000844': 0.072}</td>\n",
       "    </tr>\n",
       "    <tr>\n",
       "      <th>E14001064</th>\n",
       "      <td>Aldridge-Brownhills</td>\n",
       "      <td>E14000531</td>\n",
       "      <td>{'E14000531': 0.826, 'E14001012': 0.173}</td>\n",
       "    </tr>\n",
       "    <tr>\n",
       "      <th>E14001065</th>\n",
       "      <td>Altrincham and Sale West</td>\n",
       "      <td>E14000532</td>\n",
       "      <td>{'E14000532': 1.0}</td>\n",
       "    </tr>\n",
       "    <tr>\n",
       "      <th>E14001066</th>\n",
       "      <td>Amber Valley</td>\n",
       "      <td>E14000533</td>\n",
       "      <td>{'E14000533': 0.998, 'E14000814': 0.002}</td>\n",
       "    </tr>\n",
       "    <tr>\n",
       "      <th>E14001067</th>\n",
       "      <td>Arundel and South Downs</td>\n",
       "      <td>E14000534</td>\n",
       "      <td>{'E14000534': 0.581, 'E14000576': 0.002, 'E140...</td>\n",
       "    </tr>\n",
       "    <tr>\n",
       "      <th>...</th>\n",
       "      <td>...</td>\n",
       "      <td>...</td>\n",
       "      <td>...</td>\n",
       "    </tr>\n",
       "    <tr>\n",
       "      <th>W07000108</th>\n",
       "      <td>Swansea West</td>\n",
       "      <td>W07000047</td>\n",
       "      <td>{'W07000047': 0.436, 'W07000048': 0.564}</td>\n",
       "    </tr>\n",
       "    <tr>\n",
       "      <th>W07000109</th>\n",
       "      <td>Torfaen</td>\n",
       "      <td>W07000053</td>\n",
       "      <td>{'W07000053': 0.932, 'W07000054': 0.068}</td>\n",
       "    </tr>\n",
       "    <tr>\n",
       "      <th>W07000110</th>\n",
       "      <td>Vale of Glamorgan</td>\n",
       "      <td>W07000078</td>\n",
       "      <td>{'W07000078': 1.0}</td>\n",
       "    </tr>\n",
       "    <tr>\n",
       "      <th>W07000111</th>\n",
       "      <td>Wrexham</td>\n",
       "      <td>W07000044</td>\n",
       "      <td>{'W07000044': 0.352, 'W07000062': 0.648}</td>\n",
       "    </tr>\n",
       "    <tr>\n",
       "      <th>W07000112</th>\n",
       "      <td>Ynys Môn</td>\n",
       "      <td>W07000041</td>\n",
       "      <td>{'W07000041': 1.0}</td>\n",
       "    </tr>\n",
       "  </tbody>\n",
       "</table>\n",
       "<p>650 rows × 3 columns</p>\n",
       "</div>"
      ],
      "text/plain": [
       "                           PCON24NM   PCON10CD  \\\n",
       "PCON24CD                                         \n",
       "E14001063                 Aldershot  E14000530   \n",
       "E14001064       Aldridge-Brownhills  E14000531   \n",
       "E14001065  Altrincham and Sale West  E14000532   \n",
       "E14001066              Amber Valley  E14000533   \n",
       "E14001067   Arundel and South Downs  E14000534   \n",
       "...                             ...        ...   \n",
       "W07000108              Swansea West  W07000047   \n",
       "W07000109                   Torfaen  W07000053   \n",
       "W07000110         Vale of Glamorgan  W07000078   \n",
       "W07000111                   Wrexham  W07000044   \n",
       "W07000112                  Ynys Môn  W07000041   \n",
       "\n",
       "                                                     weights  \n",
       "PCON24CD                                                      \n",
       "E14001063           {'E14000530': 0.928, 'E14000844': 0.072}  \n",
       "E14001064           {'E14000531': 0.826, 'E14001012': 0.173}  \n",
       "E14001065                                 {'E14000532': 1.0}  \n",
       "E14001066           {'E14000533': 0.998, 'E14000814': 0.002}  \n",
       "E14001067  {'E14000534': 0.581, 'E14000576': 0.002, 'E140...  \n",
       "...                                                      ...  \n",
       "W07000108           {'W07000047': 0.436, 'W07000048': 0.564}  \n",
       "W07000109           {'W07000053': 0.932, 'W07000054': 0.068}  \n",
       "W07000110                                 {'W07000078': 1.0}  \n",
       "W07000111           {'W07000044': 0.352, 'W07000062': 0.648}  \n",
       "W07000112                                 {'W07000041': 1.0}  \n",
       "\n",
       "[650 rows x 3 columns]"
      ]
     },
     "execution_count": 33,
     "metadata": {},
     "output_type": "execute_result"
    }
   ],
   "source": [
    "changes"
   ]
  },
  {
   "cell_type": "markdown",
   "metadata": {},
   "source": [
    "Let's take a look at the English changes"
   ]
  },
  {
   "cell_type": "code",
   "execution_count": 34,
   "metadata": {},
   "outputs": [
    {
     "name": "stderr",
     "output_type": "stream",
     "text": [
      "/tmp/ipykernel_2433448/3603936644.py:1: UserWarning: Boolean Series key will be reindexed to match DataFrame index.\n",
      "  changes_e = changes.reset_index()[(changes.PCON10CD.str.startswith(\"E\", na=False) | changes.reset_index().PCON24CD.str.startswith(\"E\", na=False))]\n"
     ]
    }
   ],
   "source": [
    "changes_e = changes.reset_index()[(changes.PCON10CD.str.startswith(\"E\", na=False) | changes.reset_index().PCON24CD.str.startswith(\"E\", na=False))]"
   ]
  },
  {
   "cell_type": "code",
   "execution_count": 35,
   "metadata": {},
   "outputs": [
    {
     "data": {
      "text/plain": [
       "equivalence_found    0\n",
       "new                  0\n",
       "retired              0\n",
       "count_21             0\n",
       "count_24             0\n",
       "dtype: int64"
      ]
     },
     "execution_count": 35,
     "metadata": {},
     "output_type": "execute_result"
    }
   ],
   "source": [
    "import pandas as pd\n",
    "pd.Series(\n",
    "    index=[\n",
    "      'equivalence_found',\n",
    "      'new',\n",
    "      'retired',\n",
    "      'count_21',\n",
    "      'count_24',\n",
    "    ],\n",
    "    data=[\n",
    "      (changes_e.PCON24CD.notna() & changes_e.PCON10CD.notna()).sum(),\n",
    "      (changes_e.PCON24CD.notna() & changes_e.PCON10CD.isna()).sum(),\n",
    "      (changes_e.PCON24CD.isna() & changes_e.PCON10CD.notna()).sum(),\n",
    "      (changes_e.PCON10CD.notna()).sum(),\n",
    "      (changes_e.PCON24CD.notna()).sum(),\n",
    "    ]\n",
    ")"
   ]
  },
  {
   "cell_type": "code",
   "execution_count": 36,
   "metadata": {},
   "outputs": [
    {
     "data": {
      "text/html": [
       "<div>\n",
       "<style scoped>\n",
       "    .dataframe tbody tr th:only-of-type {\n",
       "        vertical-align: middle;\n",
       "    }\n",
       "\n",
       "    .dataframe tbody tr th {\n",
       "        vertical-align: top;\n",
       "    }\n",
       "\n",
       "    .dataframe thead th {\n",
       "        text-align: right;\n",
       "    }\n",
       "</style>\n",
       "<table border=\"1\" class=\"dataframe\">\n",
       "  <thead>\n",
       "    <tr style=\"text-align: right;\">\n",
       "      <th></th>\n",
       "      <th>PCON24CD</th>\n",
       "      <th>PCON24NM</th>\n",
       "      <th>PCON10CD</th>\n",
       "      <th>weights</th>\n",
       "    </tr>\n",
       "  </thead>\n",
       "  <tbody>\n",
       "  </tbody>\n",
       "</table>\n",
       "</div>"
      ],
      "text/plain": [
       "Empty DataFrame\n",
       "Columns: [PCON24CD, PCON24NM, PCON10CD, weights]\n",
       "Index: []"
      ]
     },
     "execution_count": 36,
     "metadata": {},
     "output_type": "execute_result"
    }
   ],
   "source": [
    "changes_e[changes_e.PCON10CD.isna()]"
   ]
  },
  {
   "cell_type": "markdown",
   "metadata": {},
   "source": [
    "There has been a net increase of ten English constituencies, with two coming from Scotland and eight from Wales. Northern Irish constituency counts are the same."
   ]
  },
  {
   "cell_type": "code",
   "execution_count": 37,
   "metadata": {},
   "outputs": [
    {
     "data": {
      "text/html": [
       "<div>\n",
       "<style scoped>\n",
       "    .dataframe tbody tr th:only-of-type {\n",
       "        vertical-align: middle;\n",
       "    }\n",
       "\n",
       "    .dataframe tbody tr th {\n",
       "        vertical-align: top;\n",
       "    }\n",
       "\n",
       "    .dataframe thead th {\n",
       "        text-align: right;\n",
       "    }\n",
       "</style>\n",
       "<table border=\"1\" class=\"dataframe\">\n",
       "  <thead>\n",
       "    <tr style=\"text-align: right;\">\n",
       "      <th></th>\n",
       "      <th>PCON21NM</th>\n",
       "      <th>index</th>\n",
       "    </tr>\n",
       "    <tr>\n",
       "      <th>Nation</th>\n",
       "      <th></th>\n",
       "      <th></th>\n",
       "    </tr>\n",
       "  </thead>\n",
       "  <tbody>\n",
       "    <tr>\n",
       "      <th>E</th>\n",
       "      <td>533</td>\n",
       "      <td>543</td>\n",
       "    </tr>\n",
       "    <tr>\n",
       "      <th>N</th>\n",
       "      <td>18</td>\n",
       "      <td>18</td>\n",
       "    </tr>\n",
       "    <tr>\n",
       "      <th>S</th>\n",
       "      <td>59</td>\n",
       "      <td>57</td>\n",
       "    </tr>\n",
       "    <tr>\n",
       "      <th>W</th>\n",
       "      <td>40</td>\n",
       "      <td>32</td>\n",
       "    </tr>\n",
       "  </tbody>\n",
       "</table>\n",
       "</div>"
      ],
      "text/plain": [
       "        PCON21NM  index\n",
       "Nation                 \n",
       "E            533    543\n",
       "N             18     18\n",
       "S             59     57\n",
       "W             40     32"
      ]
     },
     "execution_count": 37,
     "metadata": {},
     "output_type": "execute_result"
    }
   ],
   "source": [
    "pd.concat([\n",
    "  pcon21.PCON21CD.str.slice(0, 1).reset_index().rename(columns={'PCON21CD': 'Nation'}).groupby('Nation').count(),\n",
    "  pcon24.PCON24CD.str.slice(0, 1).reset_index().rename(columns={'PCON24CD': 'Nation'}).groupby('Nation').count()\n",
    "], axis=1)"
   ]
  },
  {
   "cell_type": "code",
   "execution_count": null,
   "metadata": {},
   "outputs": [],
   "source": []
  }
 ],
 "metadata": {
  "kernelspec": {
   "display_name": "yff-data-pipeline-9Di0ELhI",
   "language": "python",
   "name": "python3"
  },
  "language_info": {
   "codemirror_mode": {
    "name": "ipython",
    "version": 3
   },
   "file_extension": ".py",
   "mimetype": "text/x-python",
   "name": "python",
   "nbconvert_exporter": "python",
   "pygments_lexer": "ipython3",
   "version": "3.10.12"
  }
 },
 "nbformat": 4,
 "nbformat_minor": 2
}
